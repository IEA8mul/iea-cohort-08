{
 "cells": [
  {
   "cell_type": "code",
   "execution_count": 15,
   "id": "ce436a0c",
   "metadata": {},
   "outputs": [],
   "source": [
    "#- 1\n",
    "# define a function to loop over a list of items find the longest \n",
    "# set to blank to start \n",
    "def longest(items):\n",
    "    if not items:\n",
    "        return None\n",
    "    longest = \"\"\n",
    "# for loop of item in items\n",
    "# if the item length is greater than 'longest' \n",
    "# item is longest return that item \n",
    "    for item in items:\n",
    "        if len(item) > len(longest):\n",
    "            longest = item\n",
    "# end execution ad retun = longest and longest is empty\n",
    "        return longest"
   ]
  },
  {
   "cell_type": "code",
   "execution_count": null,
   "id": "5bdd73fb",
   "metadata": {},
   "outputs": [],
   "source": [
    "#- 1 REDO\n",
    "# define a function to loop over a list of items find the longest \n",
    "# set to blank to start \n",
    "def longest(items):\n",
    "    if not items:\n",
    "        return None\n",
    "    longest = \"\"\n",
    "# for loop of item in items\n",
    "# if the item length is greater than 'longest' \n",
    "# item is longest return that item \n",
    "    for item in items:\n",
    "        if len(item) > len(longest):\n",
    "            longest = item\n",
    "# end execution ad retun = longest and longest is empty\n",
    "        return longest"
   ]
  },
  {
   "cell_type": "code",
   "execution_count": null,
   "id": "59866516",
   "metadata": {},
   "outputs": [],
   "source": [
    "#- 1 REDO w/comments\n",
    "# define a function to loop over a list of items find the longest \n",
    "# set to blank to start \n",
    "def longest(items):\n",
    "    if not items:\n",
    "        return None\n",
    "    longest = \"\"\n",
    "# for loop of item in items\n",
    "# if the item length is greater than 'longest' \n",
    "# item is longest \n",
    "# ((assign longest to item in longest = item)) \n",
    "# return that item \n",
    "    for item in items:\n",
    "        if len(item) > len(longest):\n",
    "            longest = item\n",
    "# end execution ad retun = longest and longest is empty\n",
    "# (( end execution and return what is on longest ))\n",
    "        return longest"
   ]
  },
  {
   "cell_type": "code",
   "execution_count": null,
   "id": "5f63fffb",
   "metadata": {},
   "outputs": [],
   "source": []
  },
  {
   "cell_type": "code",
   "execution_count": 32,
   "id": "d5016499",
   "metadata": {},
   "outputs": [],
   "source": [
    "#- 2\n",
    "# define a function to loop over a list of words to locate a word that starts with certain letter\n",
    "# set the result to a blank \n",
    "# for loop to loop through the words \n",
    "# if a word starts with the desired letter append 'word' to begining of word \n",
    "# return the word \n",
    "def by_letter(words, letter):\n",
    "    result = []\n",
    "    for word in words:\n",
    "        if word.startswith(letter):\n",
    "            result.append(word)\n",
    "    return result"
   ]
  },
  {
   "cell_type": "code",
   "execution_count": null,
   "id": "7fe7f671",
   "metadata": {},
   "outputs": [],
   "source": [
    "#- 2 w/ comments\n",
    "# define a function to loop over a list of words to locate a word that starts with certain letter\n",
    "# set the result to a blank \n",
    "## ((is a list different than empty string, or zero or none that are also empty())\n",
    "# for loop to loop through the words \n",
    "# if a word starts with the desired letter append 'word' to begining of word \n",
    "# return the word \n",
    "## ((words not word)\n",
    "def by_letter(words, letter):\n",
    "    result = []\n",
    "    for word in words:\n",
    "        if word.startswith(letter):\n",
    "            result.append(word)\n",
    "    return result"
   ]
  },
  {
   "cell_type": "code",
   "execution_count": null,
   "id": "bcf727b7",
   "metadata": {},
   "outputs": [],
   "source": []
  },
  {
   "cell_type": "code",
   "execution_count": null,
   "id": "6a8a8ab1",
   "metadata": {},
   "outputs": [],
   "source": [
    "#- 3\n",
    "# impoirt the string module - import the random module \n",
    "# define a funtion of encode for a message \n",
    "# as part of the import string alphebet sets A-Z to uppercase \n",
    "# message retruns the message in uppercase \n",
    "# random.randint brings in random numbers between 1 and 25\n",
    "# not sure of the pooint in cypher_letters as the letters imported as uppcase \n",
    "# \n",
    "# retun returns encoded key + the message \n",
    "\n",
    "import string\n",
    "import random\n",
    "def encode(message):\n",
    "    alphabet = string.ascii_uppercase\n",
    "    message = message.upper()\n",
    "    shift = random.randint(1, 25)\n",
    "    cypher_letters = alphabet[shift:] + alphabet[:shift]\n",
    "    key = dict(zip(alphabet, cypher_letters))\n",
    "    encoded = [key[letter] for letter in message]\n",
    "    return ''.join(encoded)"
   ]
  },
  {
   "cell_type": "code",
   "execution_count": null,
   "id": "dfa2d225",
   "metadata": {},
   "outputs": [],
   "source": [
    "#- 3 w/ comments\n",
    "# impoirt the string module - import the random module \n",
    "# define a funtion of encode for a message \n",
    "# as part of the import string alphebet sets A-Z to uppercase \n",
    "# message retruns the message in uppercase \n",
    "# random.randint brings in random numbers between 1 and 25\n",
    "# not sure of the pooint in cypher_letters as the letters imported as uppcase \n",
    "# \n",
    "# retun returns encoded key + the message \n",
    "\n",
    "# (( import string variable string_ascii_uppercase - alpha in uppercase ))\n",
    "# (( uppercase message user passes in ))\n",
    "# (( pick random number between 1 and 25 ))\n",
    "# (( using shift number - shift of 5 would be letters D and E ))\n",
    "# (( make a dictionary of our values D and E ))\n",
    "# (( use key dictionary and list comprehension change letters to match cypher_letters))\n",
    "# (( return the encoded secret message after joing list into string ))\n",
    "# (( ie like a decoder ring ))\n",
    "\n",
    "import string\n",
    "import random\n",
    "def encode(message):\n",
    "    alphabet = string.ascii_uppercase\n",
    "    message = message.upper()\n",
    "    shift = random.randint(1, 25)\n",
    "    cypher_letters = alphabet[shift:] + alphabet[:shift]\n",
    "    key = dict(zip(alphabet, cypher_letters))\n",
    "    encoded = [key[letter] for letter in message]\n",
    "    return ''.join(encoded)"
   ]
  },
  {
   "cell_type": "code",
   "execution_count": null,
   "id": "6944244d",
   "metadata": {},
   "outputs": [],
   "source": []
  },
  {
   "cell_type": "code",
   "execution_count": 16,
   "id": "e238a0ca",
   "metadata": {},
   "outputs": [],
   "source": [
    "#- 4\n",
    "# define a function to alter a first and last name to cap the first letter of each\n",
    "\n",
    "def fix_name(first, last):\n",
    "    full_name = f\"{last.capitalize()}, {first.capitalize()}\"\n",
    "    return full_name"
   ]
  },
  {
   "cell_type": "code",
   "execution_count": null,
   "id": "f93b6fcb",
   "metadata": {},
   "outputs": [],
   "source": [
    "#- 4 - REDO\n",
    "# define a function to alter a first and last name\n",
    "# cap the first letter of Last & First\n",
    "# return the Full Name\n",
    "\n",
    "def fix_name(first, last):\n",
    "    full_name = f\"{last.capitalize()}, {first.capitalize()}\"\n",
    "    return full_name"
   ]
  },
  {
   "cell_type": "code",
   "execution_count": null,
   "id": "da1845fd",
   "metadata": {},
   "outputs": [],
   "source": [
    "#- 4 - REDO w/ comments \n",
    "# (( ok but did not mention string formatting -?? ))\n",
    "# define a function to alter a first and last name\n",
    "# cap the first letter of Last & First\n",
    "# return the Full Name\n",
    "\n",
    "def fix_name(first, last):\n",
    "    full_name = f\"{last.capitalize()}, {first.capitalize()}\"\n",
    "    return full_name"
   ]
  },
  {
   "cell_type": "code",
   "execution_count": null,
   "id": "1bd4db55",
   "metadata": {},
   "outputs": [],
   "source": []
  },
  {
   "cell_type": "code",
   "execution_count": 25,
   "id": "b863c127",
   "metadata": {},
   "outputs": [],
   "source": [
    "#- 5\n",
    "# define a functon to \n",
    "# loop through fields \n",
    "# retun retunrs row plus fields \n",
    "def build_row(fields):\n",
    "    fields = [f'\"{field}\"' for field in fields]\n",
    "    row = ','.join(fields)\n",
    "    return row"
   ]
  },
  {
   "cell_type": "code",
   "execution_count": null,
   "id": "99c25897",
   "metadata": {},
   "outputs": [],
   "source": [
    "#- 5 w/ comments\n",
    "# define a functon to \n",
    "# loop through fields \n",
    "# retun retunrs row plus fields \n",
    "\n",
    "# (( take a list of fields and loop over them - change each to a string with quotes using string formatting ))\n",
    "# (( use join to join together all the fields with a comma into one long comma seperated string ))\n",
    "# (( return the new row ))\n",
    "# (( this function can be used to create list of fields and insert into rows for a csv ))\n",
    "\n",
    "def build_row(fields):\n",
    "    fields = [f'\"{field}\"' for field in fields]\n",
    "    row = ','.join(fields)\n",
    "    return row"
   ]
  },
  {
   "cell_type": "code",
   "execution_count": null,
   "id": "3fd0fbbe",
   "metadata": {},
   "outputs": [],
   "source": []
  }
 ],
 "metadata": {
  "kernelspec": {
   "display_name": "Python 3",
   "language": "python",
   "name": "python3"
  },
  "language_info": {
   "codemirror_mode": {
    "name": "ipython",
    "version": 3
   },
   "file_extension": ".py",
   "mimetype": "text/x-python",
   "name": "python",
   "nbconvert_exporter": "python",
   "pygments_lexer": "ipython3",
   "version": "3.7.10"
  }
 },
 "nbformat": 4,
 "nbformat_minor": 5
}
