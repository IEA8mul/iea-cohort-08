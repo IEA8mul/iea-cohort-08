{
 "cells": [
  {
   "cell_type": "code",
   "execution_count": 15,
   "id": "37a0c4b0",
   "metadata": {},
   "outputs": [],
   "source": [
    "#- 1\n",
    "# define a function to loop over a list of items find the longest \n",
    "# set to blank to start \n",
    "def longest(items):\n",
    "    if not items:\n",
    "        return None\n",
    "    longest = \"\"\n",
    "# for loop of item in items\n",
    "# if the item length is greater than 'longest' \n",
    "# item is longest return that item \n",
    "    for item in items:\n",
    "        if len(item) > len(longest):\n",
    "            longest = item\n",
    "# end execution ad retun = longest and longest is empty\n",
    "        return longest"
   ]
  },
  {
   "cell_type": "code",
   "execution_count": null,
   "id": "c48e1f4a",
   "metadata": {},
   "outputs": [],
   "source": [
    "#- 1 REDO\n",
    "# define a function to loop over a list of items find the longest \n",
    "# set to blank to start \n",
    "def longest(items):\n",
    "    if not items:\n",
    "        return None\n",
    "    longest = \"\"\n",
    "# for loop of item in items\n",
    "# if the item length is greater than 'longest' \n",
    "# item is longest return that item \n",
    "    for item in items:\n",
    "        if len(item) > len(longest):\n",
    "            longest = item\n",
    "# end execution ad retun = longest and longest is empty\n",
    "        return longest"
   ]
  },
  {
   "cell_type": "code",
   "execution_count": 26,
   "id": "f0c479fc",
   "metadata": {},
   "outputs": [
    {
     "ename": "NameError",
     "evalue": "name 'items' is not defined",
     "output_type": "error",
     "traceback": [
      "\u001b[0;31m---------------------------------------------------------------------------\u001b[0m",
      "\u001b[0;31mNameError\u001b[0m                                 Traceback (most recent call last)",
      "\u001b[0;32m<ipython-input-26-982672077120>\u001b[0m in \u001b[0;36m<module>\u001b[0;34m\u001b[0m\n\u001b[1;32m     14\u001b[0m \u001b[0;31m# end execution ad retun = longest and longest is empty\u001b[0m\u001b[0;34m\u001b[0m\u001b[0;34m\u001b[0m\u001b[0;34m\u001b[0m\u001b[0m\n\u001b[1;32m     15\u001b[0m         \u001b[0;32mreturn\u001b[0m \u001b[0mlongest\u001b[0m\u001b[0;34m\u001b[0m\u001b[0;34m\u001b[0m\u001b[0m\n\u001b[0;32m---> 16\u001b[0;31m \u001b[0mprint\u001b[0m\u001b[0;34m(\u001b[0m\u001b[0mitems\u001b[0m\u001b[0;34m)\u001b[0m\u001b[0;34m\u001b[0m\u001b[0;34m\u001b[0m\u001b[0m\n\u001b[0m",
      "\u001b[0;31mNameError\u001b[0m: name 'items' is not defined"
     ]
    }
   ],
   "source": [
    "#- 1\n",
    "# define a function to loop over a list of items find the longest \n",
    "# set to blank to start \n",
    "def longest(items):\n",
    "    if not items:\n",
    "        return None\n",
    "    longest = \"\"\n",
    "# for loop of item in items\n",
    "# if the item length is greater than 'longest' \n",
    "# item is longest return that item \n",
    "    for item in items:\n",
    "        if len(item) > len(longest):\n",
    "            longest = item\n",
    "# end execution ad retun = longest and longest is empty\n",
    "        return longest\n",
    "print(items)"
   ]
  },
  {
   "cell_type": "code",
   "execution_count": null,
   "id": "eecb384d",
   "metadata": {},
   "outputs": [],
   "source": []
  },
  {
   "cell_type": "code",
   "execution_count": 32,
   "id": "bb0b429c",
   "metadata": {},
   "outputs": [],
   "source": [
    "#- 2\n",
    "# define a function to loop over a list of words to locate a word that starts with certain letter\n",
    "# set the result to a blank \n",
    "# for loop to loop through the words \n",
    "# if a word starts with the desired letter append 'word' to begining of word \n",
    "# return the word \n",
    "def by_letter(words, letter):\n",
    "    result = []\n",
    "    for word in words:\n",
    "        if word.startswith(letter):\n",
    "            result.append(word)\n",
    "    return result"
   ]
  },
  {
   "cell_type": "code",
   "execution_count": null,
   "id": "0e84ee5c",
   "metadata": {},
   "outputs": [],
   "source": []
  },
  {
   "cell_type": "code",
   "execution_count": null,
   "id": "75cf1166",
   "metadata": {},
   "outputs": [],
   "source": []
  },
  {
   "cell_type": "code",
   "execution_count": null,
   "id": "ba17ce01",
   "metadata": {},
   "outputs": [],
   "source": [
    "#- 3\n",
    "# impoirt the string module - import the random module \n",
    "# define a funtion of encode for a message \n",
    "# as part of the import string alphebet sets A-Z to uppercase \n",
    "# message retruns the message in uppercase \n",
    "# random.randint brings in random numbers between 1 and 25\n",
    "# not sure of the pooint in cypher_letters as the letters imported as uppcase \n",
    "# \n",
    "# retun returns encoded key + the message \n",
    "\n",
    "import string\n",
    "import random\n",
    "def encode(message):\n",
    "    alphabet = string.ascii_uppercase\n",
    "    message = message.upper()\n",
    "    shift = random.randint(1, 25)\n",
    "    cypher_letters = alphabet[shift:] + alphabet[:shift]\n",
    "    key = dict(zip(alphabet, cypher_letters))\n",
    "    encoded = [key[letter] for letter in message]\n",
    "    return ''.join(encoded)"
   ]
  },
  {
   "cell_type": "code",
   "execution_count": null,
   "id": "436cf3ca",
   "metadata": {},
   "outputs": [],
   "source": []
  },
  {
   "cell_type": "code",
   "execution_count": 16,
   "id": "330a98a2",
   "metadata": {},
   "outputs": [],
   "source": [
    "#- 4\n",
    "# define a function to alter a first and last name to cap the first letter of each\n",
    "\n",
    "def fix_name(first, last):\n",
    "    full_name = f\"{last.capitalize()}, {first.capitalize()}\"\n",
    "    return full_name"
   ]
  },
  {
   "cell_type": "code",
   "execution_count": null,
   "id": "3905e824",
   "metadata": {},
   "outputs": [],
   "source": [
    "#- 4 - REDO\n",
    "# define a function to alter a first and last name\n",
    "# cap the first letter of Last & First\n",
    "# return the Full Name\n",
    "\n",
    "def fix_name(first, last):\n",
    "    full_name = f\"{last.capitalize()}, {first.capitalize()}\"\n",
    "    return full_name"
   ]
  },
  {
   "cell_type": "code",
   "execution_count": null,
   "id": "294fbc90",
   "metadata": {},
   "outputs": [],
   "source": []
  },
  {
   "cell_type": "code",
   "execution_count": 25,
   "id": "7fc97dba",
   "metadata": {},
   "outputs": [],
   "source": [
    "#- 5\n",
    "# define a functon to \n",
    "# loop through fields \n",
    "# retun retunrs row plus fields \n",
    "def build_row(fields):\n",
    "    fields = [f'\"{field}\"' for field in fields]\n",
    "    row = ','.join(fields)\n",
    "    return row"
   ]
  },
  {
   "cell_type": "code",
   "execution_count": null,
   "id": "0de2261f",
   "metadata": {},
   "outputs": [],
   "source": []
  }
 ],
 "metadata": {
  "kernelspec": {
   "display_name": "Python 3",
   "language": "python",
   "name": "python3"
  },
  "language_info": {
   "codemirror_mode": {
    "name": "ipython",
    "version": 3
   },
   "file_extension": ".py",
   "mimetype": "text/x-python",
   "name": "python",
   "nbconvert_exporter": "python",
   "pygments_lexer": "ipython3",
   "version": "3.7.10"
  }
 },
 "nbformat": 4,
 "nbformat_minor": 5
}
