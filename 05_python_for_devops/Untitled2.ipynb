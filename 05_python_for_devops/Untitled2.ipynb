{
 "cells": [
  {
   "cell_type": "code",
   "execution_count": 6,
   "metadata": {},
   "outputs": [],
   "source": [
    "input = foo(\"abcdefghijklmnopqrstuvwxyz\")\n",
    "def foo(input_message):\n",
    "    c = 0\n",
    "    output_message = \"\"\n",
    "    \n",
    "    for m in input_message:\n",
    "        if (c%2==0):\n",
    "            output_message = output_message + m.lower()\n",
    "        else:\n",
    "            output_message = output_message + m.upper()\n",
    "        c = c  + 1\n",
    "    return output_message"
   ]
  },
  {
   "cell_type": "code",
   "execution_count": null,
   "metadata": {},
   "outputs": [],
   "source": []
  }
 ],
 "metadata": {
  "kernelspec": {
   "display_name": "Python 3",
   "language": "python",
   "name": "python3"
  },
  "language_info": {
   "codemirror_mode": {
    "name": "ipython",
    "version": 3
   },
   "file_extension": ".py",
   "mimetype": "text/x-python",
   "name": "python",
   "nbconvert_exporter": "python",
   "pygments_lexer": "ipython3",
   "version": "3.7.10"
  }
 },
 "nbformat": 4,
 "nbformat_minor": 2
}
