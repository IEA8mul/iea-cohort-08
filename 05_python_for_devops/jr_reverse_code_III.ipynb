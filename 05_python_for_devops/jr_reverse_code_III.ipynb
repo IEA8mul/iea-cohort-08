{
 "cells": [
  {
   "cell_type": "code",
   "execution_count": null,
   "id": "54aa3294",
   "metadata": {},
   "outputs": [],
   "source": [
    "# Analyze what each of the following functions does and how it works.\n",
    "# Fill in the missing code where the comment indicates."
   ]
  },
  {
   "cell_type": "code",
   "execution_count": null,
   "id": "83710e09",
   "metadata": {},
   "outputs": [],
   "source": []
  },
  {
   "cell_type": "code",
   "execution_count": null,
   "id": "170629ff",
   "metadata": {},
   "outputs": [],
   "source": [
    "# 1 as sent & DONE below\n",
    "\n",
    "def find_matching_record(records, key):\n",
    "    \"\"\"Given a key to search for and a list of dictionaries, find a record with\n",
    "    the matching key\"\"\"\n",
    "\n",
    "    # Search each record for the key\n",
    "    for record in records:\n",
    "        # TODO: Modify the code in the line below to complete the function\n",
    "        # if ___:\n",
    "            print(\"Record found.\")\n",
    "            return record\n",
    "    print(\"Record was not found.\")\n",
    "    return None\n",
    "\n",
    "\n",
    "records = [\n",
    "    {\"key\": \"ABC\", \"name\": \"JR Rickerson\", \"role\": \"IEA Instructor\"},\n",
    "    {\"key\": \"XYZ\", \"name\": \"JR Rickerson\", \"role\": \"Software Developer\"},\n",
    "    {\"key\": \"PDQ\", \"name\": \"Tom Mulroy\", \"role\": \"IEA Student\"},\n",
    "    {\"key\": \"YYY\", \"name\": \"Maribeth Fitzgerald\", \"role\": \"IEA Administrator\"},]\n",
    "find_matching_record(records, \"XYZ\")"
   ]
  },
  {
   "cell_type": "code",
   "execution_count": 58,
   "id": "db0ae727",
   "metadata": {},
   "outputs": [
    {
     "name": "stdout",
     "output_type": "stream",
     "text": [
      "Record was not found.\n"
     ]
    }
   ],
   "source": [
    "# 1 -working \n",
    "\n",
    "def find_matching_record(records, key):\n",
    "    \"\"\"Given a key to search for and a list of dictionaries, find a record with\n",
    "    the matching key\"\"\"\n",
    "\n",
    "    # Search each record for the key\n",
    "    for record in records:\n",
    "        # TODO: Modify the code in the line below to complete the function\n",
    "        # if ___:\n",
    "        if key in record:\n",
    "            print(\"Record found.\")\n",
    "            return record\n",
    "    print(\"Record was not found.\")\n",
    "    return None\n",
    "\n",
    "\n",
    "records = [\n",
    "    {\"key\": \"ABC\", \"name\": \"JR Rickerson\", \"role\": \"IEA Instructor\"},\n",
    "    {\"key\": \"XYZ\", \"name\": \"JR Rickerson\", \"role\": \"Software Developer\"},\n",
    "    {\"key\": \"PDQ\", \"name\": \"Tom Mulroy\", \"role\": \"IEA Student\"},\n",
    "    {\"key\": \"YYY\", \"name\": \"Maribeth Fitzgerald\", \"role\": \"IEA Administrator\"},]\n",
    "find_matching_record(records, \"XYZ\")"
   ]
  },
  {
   "cell_type": "code",
   "execution_count": 6,
   "id": "e1790aee",
   "metadata": {},
   "outputs": [
    {
     "name": "stdout",
     "output_type": "stream",
     "text": [
      "Record was not found.\n"
     ]
    }
   ],
   "source": [
    "# 1 -DONE\n",
    "\n",
    "def find_matching_record(records, key):\n",
    "    \"\"\"Given a key to search for and a list of dictionaries, find a record with\n",
    "    the matching key\"\"\"\n",
    "\n",
    "    # Search each record for the key\n",
    "    for record in records:\n",
    "        # TODO: Modify the code in the line below to complete the function\n",
    "        # if ___:\n",
    "        if key == \"\":\n",
    "            print(\"Record found.\")\n",
    "            return record\n",
    "    print(\"Record was not found.\")\n",
    "    return None\n",
    "\n",
    "\n",
    "records = [\n",
    "    {\"key\": \"ABC\", \"name\": \"JR Rickerson\", \"role\": \"IEA Instructor\"},\n",
    "    {\"key\": \"XYZ\", \"name\": \"JR Rickerson\", \"role\": \"Software Developer\"},\n",
    "    {\"key\": \"PDQ\", \"name\": \"Tom Mulroy\", \"role\": \"IEA Student\"},\n",
    "    {\"key\": \"YYY\", \"name\": \"Maribeth Fitzgerald\", \"role\": \"IEA Administrator\"},]\n",
    "find_matching_record(records, \"YYY\")\n"
   ]
  },
  {
   "cell_type": "code",
   "execution_count": null,
   "id": "4927ff52",
   "metadata": {},
   "outputs": [],
   "source": []
  },
  {
   "cell_type": "code",
   "execution_count": null,
   "id": "4e04c440",
   "metadata": {},
   "outputs": [],
   "source": [
    "# 2 - as sent \n",
    "def unique_word_count(text):\n",
    "    \"\"\"Given a string of text, find a count of the unique words in the text.\"\"\"\n",
    "    tokens = text.split()\n",
    "    unique = []\n",
    "    # TODO: Modify the code below to complete the function\n",
    "    # for ___:\n",
    "        if token not in unique:\n",
    "            unique.append(token)\n",
    "\n",
    "    return len(unique)\n",
    "\n",
    "\n",
    "text = \"\"\"We hold these truths to be self-evident, that all men are created equal, that they are endowed by their Creator with certain unalienable Rights, that among these are Life, Liberty and the pursuit of Happiness.–That to secure these rights, Governments are instituted among Men, deriving their just powers from the consent of the governed, –That whenever any Form of Government becomes destructive of these ends, it is the Right of the People to alter or to abolish it, and to institute new Government, laying its foundation on such principles and organizing its powers in such form, as to them shall seem most likely to effect their Safety and Happiness.\"\"\"\n",
    "\n",
    "unique_word_count(text)"
   ]
  },
  {
   "cell_type": "code",
   "execution_count": 66,
   "id": "c6f55d13",
   "metadata": {},
   "outputs": [
    {
     "data": {
      "text/plain": [
       "1"
      ]
     },
     "execution_count": 66,
     "metadata": {},
     "output_type": "execute_result"
    }
   ],
   "source": [
    "# 2 -working \n",
    "\n",
    "def unique_word_count(text):\n",
    "    \"\"\"Given a string of text, find a count of the unique words in the text.\"\"\"\n",
    "    tokens = text.split()\n",
    "    unique = []\n",
    "    # TODO: Modify the code below to complete the function\n",
    "    # for ___:\n",
    "    for words in text:\n",
    "        if tokens not in unique:\n",
    "            unique.append(tokens)\n",
    "\n",
    "    return len(unique)\n",
    "\n",
    "\n",
    "text = \"\"\"We hold these truths to be self-evident, that all men are created equal, that they are endowed by their Creator with certain unalienable Rights, that among these are Life, Liberty and the pursuit of Happiness.–That to secure these rights, Governments are instituted among Men, deriving their just powers from the consent of the governed, –That whenever any Form of Government becomes destructive of these ends, it is the Right of the People to alter or to abolish it, and to institute new Government, laying its foundation on such principles and organizing its powers in such form, as to them shall seem most likely to effect their Safety and Happiness.\"\"\"\n",
    "\n",
    "unique_word_count(text)"
   ]
  },
  {
   "cell_type": "code",
   "execution_count": 83,
   "id": "7bed0566",
   "metadata": {},
   "outputs": [
    {
     "data": {
      "text/plain": [
       "1"
      ]
     },
     "execution_count": 83,
     "metadata": {},
     "output_type": "execute_result"
    }
   ],
   "source": [
    "#2 -DONE\n",
    "\n",
    "def unique_word_count(text):\n",
    "    \"\"\"Given a string of text, find a count of the unique words in the text.\"\"\"\n",
    "    tokens = text.split()\n",
    "    unique = []\n",
    "    # TODO: Modify the code below to complete the function\n",
    "    # for ___:\n",
    "    for words in text:\n",
    "        if tokens not in unique:\n",
    "            unique.append(tokens)\n",
    "\n",
    "    return len(unique)\n",
    "\n",
    "\n",
    "text = \"\"\"We hold these truths to be self-evident, that all men are created equal, that they are endowed by their Creator with certain unalienable Rights, that among these are Life, Liberty and the pursuit of Happiness.–That to secure these rights, Governments are instituted among Men, deriving their just powers from the consent of the governed, –That whenever any Form of Government becomes destructive of these ends, it is the Right of the People to alter or to abolish it, and to institute new Government, laying its foundation on such principles and organizing its powers in such form, as to them shall seem most likely to effect their Safety and Happiness.\"\"\"\n",
    "\n",
    "unique_word_count(text)"
   ]
  },
  {
   "cell_type": "code",
   "execution_count": null,
   "id": "51933dba",
   "metadata": {},
   "outputs": [],
   "source": []
  },
  {
   "cell_type": "code",
   "execution_count": null,
   "id": "ec49885f",
   "metadata": {},
   "outputs": [],
   "source": [
    "# 3 -as sent\n",
    "\n",
    "def convert_to_hex_color(red, green, blue):\n",
    "    \"\"\"Given a value from 0 to 255 for red, green, and blue, print the HTML\n",
    "    safe hexidecimal version of the color.\n",
    "    E.g. convert_to_hex_color(255, 255, 255) -> \"FFFFFF\" \"\"\"\n",
    "    red_hex = f\"{red:02X}\"\n",
    "    green_hex = f\"{green:02X}\"\n",
    "    blue_hex = f\"{blue:02X}\"\n",
    "\n",
    "    # TODO: Modify the code below to complete the function\n",
    "    # hex_color = ___\n",
    "\n",
    "    return hex_color\n",
    "\n",
    "\n",
    "convert_to_hex_color(128, 255, 128)"
   ]
  },
  {
   "cell_type": "code",
   "execution_count": 101,
   "id": "8a4570ce",
   "metadata": {},
   "outputs": [
    {
     "data": {
      "text/plain": [
       "128"
      ]
     },
     "execution_count": 101,
     "metadata": {},
     "output_type": "execute_result"
    }
   ],
   "source": [
    "# 3 -working \n",
    "\n",
    "def convert_to_hex_color(red, green, blue):\n",
    "    \"\"\"Given a value from 0 to 255 for red, green, and blue, print the HTML\n",
    "    safe hexidecimal version of the color.\n",
    "    E.g. convert_to_hex_color(255, 255, 255) -> \"FFFFFF\" \"\"\"\n",
    "    red_hex = f\"{red:02X}\"\n",
    "    green_hex = f\"{green:02X}\"\n",
    "    blue_hex = f\"{blue:02X}\"\n",
    "\n",
    "    # TODO: Modify the code below to complete the function\n",
    "    # hex_color = ___\n",
    "    hex_color = blue\n",
    "\n",
    "    return hex_color\n",
    "\n",
    "\n",
    "convert_to_hex_color(128, 255, 128)"
   ]
  },
  {
   "cell_type": "code",
   "execution_count": null,
   "id": "2344d9b9",
   "metadata": {},
   "outputs": [],
   "source": []
  },
  {
   "cell_type": "code",
   "execution_count": null,
   "id": "26f4649a",
   "metadata": {},
   "outputs": [],
   "source": [
    "# 4 -as sent \n",
    "\n",
    "def generate_sentence():\n",
    "    \"\"\"Given a list of entries, return all entries up to the first entry that\n",
    "    is None\"\"\"\n",
    "    sentence = []\n",
    "    end_punctuation = \".?!\"\n",
    "    # TODO: Modify the code below to complete the function\n",
    "    # while ___:\n",
    "        word = input(\"Please enter the next word in the sentence:\")\n",
    "        if word in punctuation:\n",
    "            break\n",
    "        sentence.append(word)\n",
    "    return ' '.join(sentence) + word\n",
    "\n",
    "\n",
    "generate_sentence()"
   ]
  },
  {
   "cell_type": "code",
   "execution_count": 90,
   "id": "19da834a",
   "metadata": {},
   "outputs": [
    {
     "name": "stdout",
     "output_type": "stream",
     "text": [
      "Please enter the next word in the sentence:dog\n",
      "Please enter the next word in the sentence:cat\n",
      "Please enter the next word in the sentence:.\n"
     ]
    },
    {
     "data": {
      "text/plain": [
       "'dog cat.'"
      ]
     },
     "execution_count": 90,
     "metadata": {},
     "output_type": "execute_result"
    }
   ],
   "source": [
    "# 4 -working \n",
    "\n",
    "def generate_sentence():\n",
    "    \"\"\"Given a list of entries, return all entries up to the first entry that\n",
    "    is None\"\"\"\n",
    "    sentence = []\n",
    "    end_punctuation = \".?!\"\n",
    "    # TODO: Modify the code below to complete the function\n",
    "    # while ___:\n",
    "    while True:\n",
    "        word = input(\"Please enter the next word in the sentence:\")\n",
    "        if word in end_punctuation:\n",
    "            break\n",
    "        sentence.append(word)\n",
    "    return ' '.join(sentence) + word\n",
    "\n",
    "\n",
    "generate_sentence()"
   ]
  },
  {
   "cell_type": "code",
   "execution_count": null,
   "id": "c969c368",
   "metadata": {},
   "outputs": [],
   "source": []
  },
  {
   "cell_type": "code",
   "execution_count": null,
   "id": "7d80eae2",
   "metadata": {},
   "outputs": [],
   "source": [
    "\n",
    "# 5 -as sent \n",
    "\n",
    "def score_golf(pars, strokes):\n",
    "    \"\"\"Given a list of pars for the course, and a player's list of strokes for\n",
    "    each hole, calculate the player's final score in relation to the par score\n",
    "    i.e. -3 for 3 under par, 5 for 5 over par\"\"\"\n",
    "    hole_scores = []\n",
    "    for hole in pars:\n",
    "        # TODO: Modify the code below to complete the function\n",
    "        # hole_score = ___\n",
    "        hole_scores.append(hole_score)\n",
    "\n",
    "    # TODO: Modify the code below to complete the function\n",
    "    # total_score = ___\n",
    "\n",
    "    return total_score\n",
    "\n",
    "\n",
    "score_golf([3, 3, 3, 4, 3, 3, 5, 3, 3], [3, 3, 4, 4, 3, 2, 6, 4, 5])"
   ]
  },
  {
   "cell_type": "code",
   "execution_count": 82,
   "id": "74f81134",
   "metadata": {},
   "outputs": [
    {
     "data": {
      "text/plain": [
       "[3, 3, 4, 4, 3, 2, 6, 4, 5]"
      ]
     },
     "execution_count": 82,
     "metadata": {},
     "output_type": "execute_result"
    }
   ],
   "source": [
    "# 5 - DONE\n",
    "\n",
    "def score_golf(pars, strokes):\n",
    "    \"\"\"Given a list of pars for the course, and a player's list of strokes for\n",
    "    each hole, calculate the player's final score in relation to the par score\n",
    "    i.e. -3 for 3 under par, 5 for 5 over par\"\"\"\n",
    "    hole_scores = []\n",
    "    for hole in pars:\n",
    "        # TODO: Modify the code below to complete the function\n",
    "        # hole_score = ___\n",
    "        hole_score = score_golf\n",
    "        hole_scores.append(hole_score)\n",
    "\n",
    "    # TODO: Modify the code below to complete the function\n",
    "    # total_score = ___\n",
    "    total_score = strokes\n",
    "\n",
    "    return total_score\n",
    "\n",
    "\n",
    "score_golf([3, 3, 3, 4, 3, 3, 5, 3, 3], [3, 3, 4, 4, 3, 2, 6, 4, 5])"
   ]
  },
  {
   "cell_type": "code",
   "execution_count": null,
   "id": "b00e838b",
   "metadata": {},
   "outputs": [],
   "source": []
  }
 ],
 "metadata": {
  "kernelspec": {
   "display_name": "Python 3",
   "language": "python",
   "name": "python3"
  },
  "language_info": {
   "codemirror_mode": {
    "name": "ipython",
    "version": 3
   },
   "file_extension": ".py",
   "mimetype": "text/x-python",
   "name": "python",
   "nbconvert_exporter": "python",
   "pygments_lexer": "ipython3",
   "version": "3.7.10"
  }
 },
 "nbformat": 4,
 "nbformat_minor": 5
}
