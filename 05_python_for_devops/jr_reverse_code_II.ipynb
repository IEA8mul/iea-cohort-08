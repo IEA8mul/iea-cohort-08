{
 "cells": [
  {
   "cell_type": "code",
   "execution_count": null,
   "id": "c9c07d47",
   "metadata": {},
   "outputs": [],
   "source": [
    "# Explain, in as much detail as possible, what each of the following\n",
    "# does.  \n",
    "# Try to consider the what, the HOW, and then the WHY of how they operate.\n",
    "# For each function, I have provided one function call to execute the\n",
    "# function. \n",
    "# See if you can add additional function calls with different arguments (where possible)"
   ]
  },
  {
   "cell_type": "code",
   "execution_count": null,
   "id": "d0ca91b7",
   "metadata": {},
   "outputs": [],
   "source": []
  },
  {
   "cell_type": "code",
   "execution_count": null,
   "id": "3c5a2b8f",
   "metadata": {},
   "outputs": [],
   "source": [
    "# 1 as provided \n",
    "def is_word(text):\n",
    "    result = True\n",
    "    not_word_characters = \" .,!?-\"\n",
    "    for character in not_word_characters:\n",
    "        if character in text:\n",
    "            result = False\n",
    "            break\n",
    "    return result\n",
    "\n",
    "\n",
    "is_word(\"Hello\")"
   ]
  },
  {
   "cell_type": "code",
   "execution_count": 15,
   "id": "6f889700",
   "metadata": {},
   "outputs": [
    {
     "data": {
      "text/plain": [
       "False"
      ]
     },
     "execution_count": 15,
     "metadata": {},
     "output_type": "execute_result"
    }
   ],
   "source": [
    "# 1 working\n",
    "def is_word(text):\n",
    "    result = True\n",
    "    not_word_characters = \" .,!?-\"\n",
    "    for character in not_word_characters:\n",
    "        if character in text:\n",
    "            result = False\n",
    "            break\n",
    "    return result\n",
    "\n",
    "\n",
    "is_word(\"Hel-lo\")"
   ]
  },
  {
   "cell_type": "code",
   "execution_count": null,
   "id": "e49d1144",
   "metadata": {},
   "outputs": [],
   "source": [
    "# 1 -DONE \n",
    "\n",
    "#- WHAT\n",
    "#- HOW\n",
    "#- WHY\n",
    "\n",
    "# define a function \n",
    "def is_word(text):\n",
    "    result = True\n",
    "    \n",
    "# characters cannont include . , ! ? - \n",
    "    not_word_characters = \" .,!?-\"\n",
    "# for loop over not word characters looking for alpha, excliding above\n",
    "    for character in not_word_characters:\n",
    "# if one of the characters is in not_word_characters return FALSE\n",
    "        if character in text:\n",
    "            result = False\n",
    "            break\n",
    "# if all characters in is not_word_characters is alpha retun TRUE\n",
    "    return result\n",
    "\n",
    "\n",
    "is_word(\"Hello\")"
   ]
  },
  {
   "cell_type": "code",
   "execution_count": null,
   "id": "086898cb",
   "metadata": {},
   "outputs": [],
   "source": []
  },
  {
   "cell_type": "code",
   "execution_count": null,
   "id": "96f6094b",
   "metadata": {},
   "outputs": [],
   "source": []
  },
  {
   "cell_type": "code",
   "execution_count": null,
   "id": "bddea7f8",
   "metadata": {},
   "outputs": [],
   "source": [
    "# 2\n",
    "\n",
    "import random\n",
    "\n",
    "\n",
    "def hangman():\n",
    "    tries = 5\n",
    "    with open(\"words\") as word_file:\n",
    "        words = [line.strip() for line in word_file]\n",
    "    \n",
    "    word = random.choice(words)\n",
    "    picked_letters = []\n",
    "    while tries > 0:\n",
    "        print(\"Your word: \", end=\"\")\n",
    "        missing_letters = False\n",
    "        for letter in word:\n",
    "            if letter.upper() in picked_letters:\n",
    "                print(letter.upper() + \" \", end=\"\")\n",
    "            else:\n",
    "                missing_letters = True\n",
    "                print(\"_\" + \" \", end=\"\")\n",
    "        print()\n",
    "        if not missing_letters:\n",
    "            print(\"You got it!\")\n",
    "            break\n",
    "        new_letter = input(\"Choose a letter: \")\n",
    "        if new_letter.upper() not in picked_letters:\n",
    "            picked_letters.append(new_letter.upper())\n",
    "        if new_letter.upper() not in word.upper():\n",
    "            print(\"Oops! Bad guess!\")\n",
    "            tries -= 1\n",
    "            print(f\"You have {tries} tries left.\")\n",
    "    else:\n",
    "        print(\"The word was\", word.upper())\n",
    "\n",
    "\n",
    "hangman()\n"
   ]
  },
  {
   "cell_type": "code",
   "execution_count": null,
   "id": "b5ffe143",
   "metadata": {},
   "outputs": [],
   "source": []
  },
  {
   "cell_type": "code",
   "execution_count": null,
   "id": "66c74c30",
   "metadata": {},
   "outputs": [],
   "source": []
  },
  {
   "cell_type": "code",
   "execution_count": null,
   "id": "236045c8",
   "metadata": {},
   "outputs": [],
   "source": []
  },
  {
   "cell_type": "code",
   "execution_count": null,
   "id": "d7268baf",
   "metadata": {},
   "outputs": [],
   "source": [
    "# 3- DONE\n",
    "\n",
    "# import the random module to generate a random number per roll\n",
    "import random\n",
    "\n",
    "# define roll_dice to take number of die rolled \n",
    "def roll_dice(num_dice, num_sides=6):\n",
    "# set empty list to store results \n",
    "    dice = []\n",
    "# for loop over each roll\n",
    "    for i in range(num_dice):\n",
    "# call randint to produce random number\n",
    "        die = random.randint(1, num_sides)\n",
    "# append the random number to dice \n",
    "        dice.append(die)\n",
    "# retun the results of the roll\n",
    "    return dice\n",
    "\n",
    "\n",
    "roll_dice(2)\n"
   ]
  },
  {
   "cell_type": "code",
   "execution_count": 9,
   "id": "6c95458f",
   "metadata": {},
   "outputs": [
    {
     "data": {
      "text/plain": [
       "[5, 3]"
      ]
     },
     "execution_count": 9,
     "metadata": {},
     "output_type": "execute_result"
    }
   ],
   "source": [
    "# 3\n",
    "\n",
    "import random\n",
    "\n",
    "def roll_dice(num_dice, num_sides=6):\n",
    "    dice = []\n",
    "    for i in range(num_dice):\n",
    "        die = random.randint(1, num_sides)\n",
    "        dice.append(die)\n",
    "    return dice\n",
    "\n",
    "\n",
    "roll_dice(2)"
   ]
  },
  {
   "cell_type": "code",
   "execution_count": null,
   "id": "b11d2ddf",
   "metadata": {},
   "outputs": [],
   "source": []
  },
  {
   "cell_type": "code",
   "execution_count": null,
   "id": "895ae1f5",
   "metadata": {},
   "outputs": [],
   "source": [
    "# 4\n",
    "\n",
    "def score_assessment(student_assessment, answer_key):\n",
    "    score_per_question = 100 / len(answer_key)\n",
    "    \n",
    "    student_score = 100\n",
    "    for question, answer in answer_key.items():\n",
    "        student_answer = student_assessment.get(question)\n",
    "        if student_answer != answer:\n",
    "            print(f\"Incorrect answer for question {question}\")\n",
    "            student_score = student_score - score_per_question\n",
    "        elif student_answer is None:\n",
    "            print(f\"Student did not provide answer for question {question}\")\n",
    "            student_score = student_score - score_per_question\n",
    "    return student_score\n",
    "\n",
    "\n",
    "score_assessment({1: \"A\", 2: \"C\", 3: \"B\"}, {1: \"B\", 2: \"C\", 3: \"B\"})"
   ]
  },
  {
   "cell_type": "code",
   "execution_count": null,
   "id": "898460c1",
   "metadata": {},
   "outputs": [],
   "source": []
  },
  {
   "cell_type": "code",
   "execution_count": null,
   "id": "7f138569",
   "metadata": {},
   "outputs": [],
   "source": [
    "# 5 -as provided \n",
    "\n",
    "import datetime\n",
    "\n",
    "\n",
    "def first_tuesday_next(month_num):\n",
    "    today = datetime.date.today()\n",
    "    first_of_month = datetime.date(today.year, month_num, 1)\n",
    "    days_til_monday = (7 - first_of_month.weekday()) % 7\n",
    "    first_monday = first_of_month + datetime.timedelta(days=days_til_monday)\n",
    "    tuesday_next = first_monday + datetime.timedelta(days=1)\n",
    "    month_year = tuesday_next.strftime(\"%B %Y\")\n",
    "    print(f\"The Tuesday after the first Monday of {month_year} is {tuesday_next}\")\n",
    "    return tuesday_next\n",
    "\n",
    "\n",
    "first_tuesday_next(11)"
   ]
  },
  {
   "cell_type": "code",
   "execution_count": null,
   "id": "9bac451b",
   "metadata": {},
   "outputs": [],
   "source": [
    "# 5-  WORKING \n",
    "\n",
    "# inport datetime function\n",
    "import datetime\n",
    "\n",
    "# define month to use for calc \n",
    "def first_tuesday_next(month_num):\n",
    "    \n",
    "# lookup todays date\n",
    "    today = datetime.date.today()\n",
    "# first of month \n",
    "    first_of_month = datetime.date(today.year, month_num, 1)\n",
    "# days until the monday \n",
    "    days_til_monday = (7 - first_of_month.weekday()) % 7\n",
    "# first monday \n",
    "    first_monday = first_of_month + datetime.timedelta(days=days_til_monday)\n",
    "# define tuesday as first day after first monday identified  \n",
    "    tuesday_next = first_monday + datetime.timedelta(days=1)\n",
    "# capture/capitalize the month and capture four digit year using string format  \n",
    "    month_year = tuesday_next.strftime(\"%B %Y\")\n",
    "# print the result appending month_year MAY 2023 and Tuesdays date  \n",
    "    print(f\"The Tuesday after the first Monday of {month_year} is {tuesday_next}\")\n",
    "    return tuesday_next\n",
    "\n",
    "\n",
    "first_tuesday_next(11)"
   ]
  },
  {
   "cell_type": "code",
   "execution_count": null,
   "id": "e7ec85cf",
   "metadata": {},
   "outputs": [],
   "source": []
  },
  {
   "cell_type": "code",
   "execution_count": 16,
   "id": "f1002d93",
   "metadata": {},
   "outputs": [
    {
     "name": "stdout",
     "output_type": "stream",
     "text": [
      "The Tuesday after the first Monday of January 2022 is 2022-01-04\n"
     ]
    },
    {
     "data": {
      "text/plain": [
       "datetime.date(2022, 1, 4)"
      ]
     },
     "execution_count": 16,
     "metadata": {},
     "output_type": "execute_result"
    }
   ],
   "source": [
    "# 5 - omg\n",
    "\n",
    "import datetime\n",
    "\n",
    "\n",
    "def first_tuesday_next(month_num):\n",
    "    today = datetime.date.today()\n",
    "    first_of_month = datetime.date(today.year, month_num, 1)\n",
    "    days_til_monday = (7 - first_of_month.weekday()) % 7\n",
    "    first_monday = first_of_month + datetime.timedelta(days=days_til_monday)\n",
    "    tuesday_next = first_monday + datetime.timedelta(days=1)\n",
    "    month_year = tuesday_next.strftime(\"%B %Y\")\n",
    "    print(f\"The Tuesday after the first Monday of {month_year} is {tuesday_next}\")\n",
    "    return tuesday_next\n",
    "\n",
    "\n",
    "first_tuesday_next(1)"
   ]
  },
  {
   "cell_type": "code",
   "execution_count": null,
   "id": "c86e0e99",
   "metadata": {},
   "outputs": [],
   "source": []
  }
 ],
 "metadata": {
  "kernelspec": {
   "display_name": "Python 3",
   "language": "python",
   "name": "python3"
  },
  "language_info": {
   "codemirror_mode": {
    "name": "ipython",
    "version": 3
   },
   "file_extension": ".py",
   "mimetype": "text/x-python",
   "name": "python",
   "nbconvert_exporter": "python",
   "pygments_lexer": "ipython3",
   "version": "3.7.10"
  }
 },
 "nbformat": 4,
 "nbformat_minor": 5
}
