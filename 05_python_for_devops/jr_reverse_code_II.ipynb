{
 "cells": [
  {
   "cell_type": "code",
   "execution_count": null,
   "id": "dd01bc94",
   "metadata": {},
   "outputs": [],
   "source": [
    "# Explain, in as much detail as possible, what each of the following\n",
    "# does.  \n",
    "# Try to consider the what, the HOW, and then the WHY of how they operate.\n",
    "# For each function, I have provided one function call to execute the\n",
    "# function. \n",
    "# See if you can add additional function calls with different arguments (where possible)"
   ]
  },
  {
   "cell_type": "code",
   "execution_count": null,
   "id": "501c23b6",
   "metadata": {},
   "outputs": [],
   "source": []
  },
  {
   "cell_type": "code",
   "execution_count": null,
   "id": "13152efe",
   "metadata": {},
   "outputs": [],
   "source": [
    "# 1 as provided \n",
    "def is_word(text):\n",
    "    result = True\n",
    "    not_word_characters = \" .,!?-\"\n",
    "    for character in not_word_characters:\n",
    "        if character in text:\n",
    "            result = False\n",
    "            break\n",
    "    return result\n",
    "\n",
    "\n",
    "is_word(\"Hello\")"
   ]
  },
  {
   "cell_type": "code",
   "execution_count": 15,
   "id": "7268f2fd",
   "metadata": {},
   "outputs": [
    {
     "data": {
      "text/plain": [
       "False"
      ]
     },
     "execution_count": 15,
     "metadata": {},
     "output_type": "execute_result"
    }
   ],
   "source": [
    "# 1 working\n",
    "def is_word(text):\n",
    "    result = True\n",
    "    not_word_characters = \" .,!?-\"\n",
    "    for character in not_word_characters:\n",
    "        if character in text:\n",
    "            result = False\n",
    "            break\n",
    "    return result\n",
    "\n",
    "\n",
    "is_word(\"Hel-lo\")"
   ]
  },
  {
   "cell_type": "code",
   "execution_count": null,
   "id": "77126d44",
   "metadata": {},
   "outputs": [],
   "source": [
    "# 1 -DONE-checked python tutor -sent 11_9\n",
    "\n",
    "# define a function  \n",
    "def is_word(text):\n",
    "    result = True\n",
    "    \n",
    "# characters in 'is_word' cannont include . , ! ? - \n",
    "    not_word_characters = \" .,!?-\"\n",
    "# for loop over word looking for characters above\n",
    "    for character in not_word_characters:\n",
    "# if one of the characters is in not_word_characters return FALSE\n",
    "        if character in text:\n",
    "            result = False\n",
    "            break\n",
    "# if all characters in is not_word_characters is alpha retun TRUE\n",
    "    return result\n",
    "\n",
    "\n",
    "is_word(\"Hello\")"
   ]
  },
  {
   "cell_type": "code",
   "execution_count": null,
   "id": "97de98af",
   "metadata": {},
   "outputs": [],
   "source": []
  },
  {
   "cell_type": "code",
   "execution_count": null,
   "id": "3c2db753",
   "metadata": {},
   "outputs": [],
   "source": [
    "# 2 - as provided \n",
    "\n",
    "import random\n",
    "\n",
    "def hangman():\n",
    "    tries = 5\n",
    "    with open(\"words\") as word_file:\n",
    "        words = [line.strip() for line in word_file]\n",
    "    \n",
    "    word = random.choice(words)\n",
    "    picked_letters = []\n",
    "    while tries > 0:\n",
    "        print(\"Your word: \", end=\"\")\n",
    "        missing_letters = False\n",
    "        for letter in word:\n",
    "            if letter.upper() in picked_letters:\n",
    "                print(letter.upper() + \" \", end=\"\")\n",
    "            else:\n",
    "                missing_letters = True\n",
    "                print(\"_\" + \" \", end=\"\")\n",
    "        print()\n",
    "        if not missing_letters:\n",
    "            print(\"You got it!\")\n",
    "            break\n",
    "        new_letter = input(\"Choose a letter: \")\n",
    "        if new_letter.upper() not in picked_letters:\n",
    "            picked_letters.append(new_letter.upper())\n",
    "        if new_letter.upper() not in word.upper():\n",
    "            print(\"Oops! Bad guess!\")\n",
    "            tries -= 1\n",
    "            print(f\"You have {tries} tries left.\")\n",
    "    else:\n",
    "        print(\"The word was\", word.upper())\n",
    "\n",
    "\n",
    "hangman()\n"
   ]
  },
  {
   "cell_type": "code",
   "execution_count": 10,
   "id": "e68aff18",
   "metadata": {},
   "outputs": [],
   "source": [
    "words = ['one', 'two', 'three']"
   ]
  },
  {
   "cell_type": "code",
   "execution_count": 12,
   "id": "0e64d95e",
   "metadata": {},
   "outputs": [
    {
     "ename": "FileNotFoundError",
     "evalue": "[Errno 2] No such file or directory: 'words'",
     "output_type": "error",
     "traceback": [
      "\u001b[0;31m---------------------------------------------------------------------------\u001b[0m",
      "\u001b[0;31mFileNotFoundError\u001b[0m                         Traceback (most recent call last)",
      "\u001b[0;32m<ipython-input-12-28d837fab897>\u001b[0m in \u001b[0;36m<module>\u001b[0;34m\u001b[0m\n\u001b[1;32m     47\u001b[0m \u001b[0;34m\u001b[0m\u001b[0m\n\u001b[1;32m     48\u001b[0m \u001b[0;34m\u001b[0m\u001b[0m\n\u001b[0;32m---> 49\u001b[0;31m \u001b[0mhangman\u001b[0m\u001b[0;34m(\u001b[0m\u001b[0;34m)\u001b[0m\u001b[0;34m\u001b[0m\u001b[0;34m\u001b[0m\u001b[0m\n\u001b[0m",
      "\u001b[0;32m<ipython-input-12-28d837fab897>\u001b[0m in \u001b[0;36mhangman\u001b[0;34m()\u001b[0m\n\u001b[1;32m      6\u001b[0m     \u001b[0mtries\u001b[0m \u001b[0;34m=\u001b[0m \u001b[0;36m5\u001b[0m\u001b[0;34m\u001b[0m\u001b[0;34m\u001b[0m\u001b[0m\n\u001b[1;32m      7\u001b[0m \u001b[0;31m# open a 'words' file that has the words to be guessed\u001b[0m\u001b[0;34m\u001b[0m\u001b[0;34m\u001b[0m\u001b[0;34m\u001b[0m\u001b[0m\n\u001b[0;32m----> 8\u001b[0;31m     \u001b[0;32mwith\u001b[0m \u001b[0mopen\u001b[0m\u001b[0;34m(\u001b[0m\u001b[0;34m\"words\"\u001b[0m\u001b[0;34m)\u001b[0m \u001b[0;32mas\u001b[0m \u001b[0mword_file\u001b[0m\u001b[0;34m:\u001b[0m\u001b[0;34m\u001b[0m\u001b[0;34m\u001b[0m\u001b[0m\n\u001b[0m\u001b[1;32m      9\u001b[0m \u001b[0;31m# for loop over words file\u001b[0m\u001b[0;34m\u001b[0m\u001b[0;34m\u001b[0m\u001b[0;34m\u001b[0m\u001b[0m\n\u001b[1;32m     10\u001b[0m \u001b[0;31m# word equals the randomly chosen word\u001b[0m\u001b[0;34m\u001b[0m\u001b[0;34m\u001b[0m\u001b[0;34m\u001b[0m\u001b[0m\n",
      "\u001b[0;31mFileNotFoundError\u001b[0m: [Errno 2] No such file or directory: 'words'"
     ]
    }
   ],
   "source": [
    "# 2 - working \n",
    "\n",
    "# import the random module \n",
    "def hangman():\n",
    "# set the attempts/tries to 5\n",
    "    tries = 5\n",
    "# open a 'words' file that has the words to be guessed \n",
    "    with open(\"words\") as word_file:\n",
    "# for loop over words file \n",
    "# word equals the randomly chosen word \n",
    "        words = [line.strip() for line in word_file]\n",
    "    word = random.choice(words)\n",
    "# store picked letters and set to blank to start\n",
    "    picked_letters = []\n",
    "# set tries to zero to start\n",
    "    while tries > 0:\n",
    "# ask user to enter a word \n",
    "# enter a word - match word to word_file - respond with letters & blanks \n",
    "# print the word back to the screen \n",
    "        print(\"Your word: \", end=\"\")\n",
    "        missing_letters = False\n",
    "        for letter in word:\n",
    "            if letter.upper() in picked_letters:\n",
    "                print(letter.upper() + \" \", end=\"\")\n",
    "            else:\n",
    "                missing_letters = True\n",
    "                print(\"_\" + \" \", end=\"\")\n",
    "        print()\n",
    "# if entered word fully matches random word print you got it break out of progam\n",
    "        if not missing_letters:\n",
    "            print(\"You got it!\")\n",
    "            break\n",
    "# if not done request a new letter to enter to complete word \n",
    "        new_letter = input(\"Choose a letter: \")\n",
    "# set new letter to upper and check if newly entered letter already in picked_letters \n",
    "        if new_letter.upper() not in picked_letters:\n",
    "            picked_letters.append(new_letter.upper())\n",
    "# if new letter not in word respond bad letter and continue loop, add 1 to tries\n",
    "        if new_letter.upper() not in word.upper():\n",
    "            print(\"Oops! Bad guess!\")\n",
    "            tries -= 1\n",
    "# print how many tries left \n",
    "            print(f\"You have {tries} tries left.\")\n",
    "# if hit max tries of 5 print the word and end program\n",
    "    else:\n",
    "        print(\"The word was\", word.upper())\n",
    "\n",
    "\n",
    "hangman()"
   ]
  },
  {
   "cell_type": "code",
   "execution_count": null,
   "id": "0b54bedc",
   "metadata": {},
   "outputs": [],
   "source": [
    "# 2 - NOT done\n",
    "\n",
    "def hangman():\n",
    "    tries = 5\n",
    "    with open(\"words\") as word_file:\n",
    "        words = [line.strip() for line in word_file]\n",
    "    \n",
    "    word = random.choice(words)\n",
    "    picked_letters = []\n",
    "    while tries > 0:\n",
    "        print(\"Your word: \", end=\"\")\n",
    "        missing_letters = False\n",
    "        for letter in word:\n",
    "            if letter.upper() in picked_letters:\n",
    "                print(letter.upper() + \" \", end=\"\")\n",
    "            else:\n",
    "                missing_letters = True\n",
    "                print(\"_\" + \" \", end=\"\")\n",
    "        print()\n",
    "        if not missing_letters:\n",
    "            print(\"You got it!\")\n",
    "            break\n",
    "        new_letter = input(\"Choose a letter: \")\n",
    "        if new_letter.upper() not in picked_letters:\n",
    "            picked_letters.append(new_letter.upper())\n",
    "        if new_letter.upper() not in word.upper():\n",
    "            print(\"Oops! Bad guess!\")\n",
    "            tries -= 1\n",
    "            print(f\"You have {tries} tries left.\")\n",
    "    else:\n",
    "        print(\"The word was\", word.upper())\n",
    "\n",
    "\n",
    "hangman("
   ]
  },
  {
   "cell_type": "code",
   "execution_count": null,
   "id": "8c0a54f5",
   "metadata": {},
   "outputs": [],
   "source": []
  },
  {
   "cell_type": "code",
   "execution_count": null,
   "id": "87c75a9b",
   "metadata": {},
   "outputs": [],
   "source": [
    "# 3 as provided\n",
    "\n",
    "import random\n",
    "\n",
    "def roll_dice(num_dice, num_sides=6):\n",
    "    dice = []\n",
    "    for i in range(num_dice):\n",
    "        die = random.randint(1, num_sides)\n",
    "        dice.append(die)\n",
    "    return dice\n",
    "\n",
    "\n",
    "roll_dice(2)"
   ]
  },
  {
   "cell_type": "code",
   "execution_count": 37,
   "id": "98265f60",
   "metadata": {},
   "outputs": [
    {
     "data": {
      "text/plain": [
       "[4]"
      ]
     },
     "execution_count": 37,
     "metadata": {},
     "output_type": "execute_result"
    }
   ],
   "source": [
    "# 3 working\n",
    "\n",
    "import random\n",
    "\n",
    "def roll_dice(num_dice, num_sides=6):\n",
    "    dice = []\n",
    "    for i in range(num_dice):\n",
    "        die = random.randint(1, num_sides)\n",
    "        dice.append(die)\n",
    "    return dice\n",
    "\n",
    "\n",
    "roll_dice(1)"
   ]
  },
  {
   "cell_type": "code",
   "execution_count": 35,
   "id": "7e3764cf",
   "metadata": {},
   "outputs": [
    {
     "data": {
      "text/plain": [
       "[6, 3]"
      ]
     },
     "execution_count": 35,
     "metadata": {},
     "output_type": "execute_result"
    }
   ],
   "source": [
    "# 3- DONE -checked python tutor -sent 11_9\n",
    "\n",
    "# import the random module to generate a random number per roll\n",
    "import random\n",
    "\n",
    "# define roll_dice to take number of die rolled\n",
    "# set in roll_dice & number of die sides set to 6 \n",
    "def roll_dice(num_dice, num_sides=6):\n",
    "# set empty list to store results \n",
    "    dice = []\n",
    "# for loop over each roll per num_dice set \n",
    "    for i in range(num_dice):\n",
    "# call randint to produce random number\n",
    "        die = random.randint(1, num_sides)\n",
    "# append the rolled number 0 & 1 for each roll_dice \n",
    "        dice.append(die)\n",
    "# retun the results of the rolls\n",
    "    return dice\n",
    "\n",
    "\n",
    "roll_dice(2)\n"
   ]
  },
  {
   "cell_type": "code",
   "execution_count": null,
   "id": "86646fb8",
   "metadata": {},
   "outputs": [],
   "source": []
  },
  {
   "cell_type": "code",
   "execution_count": null,
   "id": "92d59f4c",
   "metadata": {},
   "outputs": [],
   "source": [
    "# 4 as provided \n",
    "\n",
    "def score_assessment(student_assessment, answer_key):\n",
    "    score_per_question = 100 / len(answer_key)\n",
    "    \n",
    "    student_score = 100\n",
    "    for question, answer in answer_key.items():\n",
    "        student_answer = student_assessment.get(question)\n",
    "        if student_answer != answer:\n",
    "            print(f\"Incorrect answer for question {question}\")\n",
    "            student_score = student_score - score_per_question\n",
    "        elif student_answer is None:\n",
    "            print(f\"Student did not provide answer for question {question}\")\n",
    "            student_score = student_score - score_per_question\n",
    "    return student_score\n",
    "\n",
    "\n",
    "score_assessment({1: \"A\", 2: \"C\", 3: \"B\"}, {1: \"B\", 2: \"C\", 3: \"B\"})"
   ]
  },
  {
   "cell_type": "code",
   "execution_count": 46,
   "id": "0a2d1cf7",
   "metadata": {},
   "outputs": [
    {
     "name": "stdout",
     "output_type": "stream",
     "text": [
      "Incorrect answer for question 3\n"
     ]
    },
    {
     "data": {
      "text/plain": [
       "66.66666666666666"
      ]
     },
     "execution_count": 46,
     "metadata": {},
     "output_type": "execute_result"
    }
   ],
   "source": [
    "# 4 working \n",
    "\n",
    "# score is 100 / number of answers in answer_key (currently 3) \n",
    "def score_assessment(student_assessment, answer_key):\n",
    "    score_per_question = 100 / len(answer_key)\n",
    "    \n",
    "# set score at 100 \n",
    "    student_score = 100\n",
    "# for loop over answer_key / student_assessment for each item in score_assessment \n",
    "    for question, answer in answer_key.items():\n",
    "# store correct answer & student answer -\n",
    "        student_answer = student_assessment.get(question)\n",
    "# is studnet answer not = to any correct answer print \" incorrect ... \"\n",
    "        if student_answer != answer:\n",
    "            print(f\"Incorrect answer for question {question}\")\n",
    "# track student score 100 / 3 \n",
    "            student_score = student_score - score_per_question\n",
    "# if student answer blank print \" ... did not provide ... \"\n",
    "        elif student_answer is None:\n",
    "            print(f\"Student did not provide answer for question {question}\")\n",
    "            student_score = student_score - score_per_question\n",
    "# return numerical student score \n",
    "    return student_score\n",
    "\n",
    "\n",
    "# list of student answers , correct answers\n",
    "score_assessment({1: \"B\", 2: \"C\", 3: \"B\"}, {1: \"B\", 2: \"C\", 3: \"A\"})"
   ]
  },
  {
   "cell_type": "code",
   "execution_count": null,
   "id": "1b7fddbc",
   "metadata": {},
   "outputs": [],
   "source": [
    "# 4 DONE -checked python tutor -sent 11_9\n",
    "\n",
    "# score is 100 / number of answers in answer_key (currently 3) \n",
    "def score_assessment(student_assessment, answer_key):\n",
    "    score_per_question = 100 / len(answer_key)\n",
    "    \n",
    "# set score at 100 \n",
    "    student_score = 100\n",
    "# for loop over answer_key / student_assessment for each item in score_assessment \n",
    "    for question, answer in answer_key.items():\n",
    "# store correct answer & student answer -\n",
    "        student_answer = student_assessment.get(question)\n",
    "# is studnet answer not = to any correct answer print \" incorrect ... \"\n",
    "        if student_answer != answer:\n",
    "            print(f\"Incorrect answer for question {question}\")\n",
    "# track student score 100 / 3 \n",
    "            student_score = student_score - score_per_question\n",
    "# if student answer blank print \" ... did not provide ... \"\n",
    "        elif student_answer is None:\n",
    "            print(f\"Student did not provide answer for question {question}\")\n",
    "            student_score = student_score - score_per_question\n",
    "# return numerical student score \n",
    "    return student_score\n",
    "\n",
    "\n",
    "# list of student answers , correct answers\n",
    "score_assessment({1: \"B\", 2: \"C\", 3: \"B\"}, {1: \"B\", 2: \"C\", 3: \""
   ]
  },
  {
   "cell_type": "code",
   "execution_count": null,
   "id": "715334ac",
   "metadata": {},
   "outputs": [],
   "source": []
  },
  {
   "cell_type": "code",
   "execution_count": null,
   "id": "a96db8f4",
   "metadata": {},
   "outputs": [],
   "source": [
    "# 5 -as provided \n",
    "\n",
    "import datetime\n",
    "\n",
    "\n",
    "def first_tuesday_next(month_num):\n",
    "    today = datetime.date.today()\n",
    "    first_of_month = datetime.date(today.year, month_num, 1)\n",
    "    days_til_monday = (7 - first_of_month.weekday()) % 7\n",
    "    first_monday = first_of_month + datetime.timedelta(days=days_til_monday)\n",
    "    tuesday_next = first_monday + datetime.timedelta(days=1)\n",
    "    month_year = tuesday_next.strftime(\"%B %Y\")\n",
    "    print(f\"The Tuesday after the first Monday of {month_year} is {tuesday_next}\")\n",
    "    return tuesday_next\n",
    "\n",
    "\n",
    "first_tuesday_next(11)"
   ]
  },
  {
   "cell_type": "code",
   "execution_count": null,
   "id": "5e0836fc",
   "metadata": {},
   "outputs": [],
   "source": []
  },
  {
   "cell_type": "code",
   "execution_count": 49,
   "id": "57958ec7",
   "metadata": {},
   "outputs": [
    {
     "name": "stdout",
     "output_type": "stream",
     "text": [
      "The Tuesday after the first Monday of November 2022 is 2022-11-08\n"
     ]
    },
    {
     "data": {
      "text/plain": [
       "datetime.date(2022, 11, 8)"
      ]
     },
     "execution_count": 49,
     "metadata": {},
     "output_type": "execute_result"
    }
   ],
   "source": [
    "# 5 - working\n",
    "\n",
    "# import datetime function\n",
    "import datetime\n",
    "\n",
    "# define variable first_tuesday_next referncing month selected\n",
    "def first_tuesday_next(month_num):\n",
    "    today = datetime.date.today()\n",
    "    first_of_month = datetime.date(today.year, month_num, 1)\n",
    "    days_til_monday = (7 - first_of_month.weekday()) % 7\n",
    "    first_monday = first_of_month + datetime.timedelta(days=days_til_monday)\n",
    "    tuesday_next = first_monday + datetime.timedelta(days=1)\n",
    "    month_year = tuesday_next.strftime(\"%B %Y\")\n",
    "    print(f\"The Tuesday after the first Monday of {month_year} is {tuesday_next}\")\n",
    "    return tuesday_next\n",
    "\n",
    "# input month to check \n",
    "first_tuesday_next(11)"
   ]
  },
  {
   "cell_type": "code",
   "execution_count": null,
   "id": "9c726955",
   "metadata": {},
   "outputs": [],
   "source": []
  },
  {
   "cell_type": "code",
   "execution_count": null,
   "id": "d4817db3",
   "metadata": {},
   "outputs": [],
   "source": [
    "# 5- DONE -can't run in python tutor -fails on datetime.date.today\n",
    "\n",
    "# inport datetime function\n",
    "import datetime\n",
    "\n",
    "# store number from first_tuesday_next \n",
    "def first_tuesday_next(month_num):\n",
    "    \n",
    "# lookup todays date\n",
    "    today = datetime.date.today()\n",
    "# entered month / year of today \n",
    "    first_of_month = datetime.date(today.year, month_num, 1)\n",
    "# days until the monday \n",
    "    days_til_monday = (7 - first_of_month.weekday()) % 7\n",
    "# first monday \n",
    "    first_monday = first_of_month + datetime.timedelta(days=days_til_monday)\n",
    "# define tuesday as first day after first monday identified  \n",
    "    tuesday_next = first_monday + datetime.timedelta(days=1)\n",
    "# capture/capitalize the month and capture four digit year using string format  \n",
    "    month_year = tuesday_next.strftime(\"%B %Y\")\n",
    "# print the result appending month_year and first Tuesdays date  \n",
    "    print(f\"The Tuesday after the first Monday of {month_year} is {tuesday_next}\")\n",
    "    return tuesday_next\n",
    "\n",
    "\n",
    "# define month to use\n",
    "first_tuesday_next(11)"
   ]
  },
  {
   "cell_type": "code",
   "execution_count": null,
   "id": "223c12a2",
   "metadata": {},
   "outputs": [],
   "source": []
  }
 ],
 "metadata": {
  "kernelspec": {
   "display_name": "Python 3",
   "language": "python",
   "name": "python3"
  },
  "language_info": {
   "codemirror_mode": {
    "name": "ipython",
    "version": 3
   },
   "file_extension": ".py",
   "mimetype": "text/x-python",
   "name": "python",
   "nbconvert_exporter": "python",
   "pygments_lexer": "ipython3",
   "version": "3.7.10"
  }
 },
 "nbformat": 4,
 "nbformat_minor": 5
}
