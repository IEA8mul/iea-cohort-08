{
 "cells": [
  {
   "cell_type": "code",
   "execution_count": 4,
   "metadata": {},
   "outputs": [
    {
     "name": "stdout",
     "output_type": "stream",
     "text": [
      "Enter a number: 4\n",
      "Enter a number: 3\n",
      "7\n"
     ]
    }
   ],
   "source": [
    "#prompt user for 2 numbers and provide answer\n",
    "\n",
    "#prompt for number\n",
    "#input(\"Enter a number: \")\n",
    "\n",
    "#assign 1st number to variable\n",
    "number1 = input(\"Enter a number: \")\n",
    "number2 = input(\"Enter a number: \")\n",
    "\n",
    "total = (int(number1) + int(number2))\n",
    "print(total)\n",
    "\n",
    "#prompt for second number \n",
    "\n",
    "#assign 2nd number to variable\n",
    "\n",
    "#add the 2 numbers \n",
    "\n",
    "#assign total to variable \n",
    "\n",
    "#print out the answer \n",
    "\n"
   ]
  },
  {
   "cell_type": "code",
   "execution_count": 18,
   "metadata": {},
   "outputs": [
    {
     "name": "stdout",
     "output_type": "stream",
     "text": [
      "0.4666666666666666\n"
     ]
    }
   ],
   "source": [
    "#create 3 floating point values / find average \n",
    "\n",
    "#floating points \n",
    "float1 = (.2)\n",
    "float2 = (.5)\n",
    "float3 = (.7)\n",
    "\n",
    "#calculate average\n",
    "total = ((float1 + float2 + float3) / 3)\n",
    "\n",
    "#print answer\n",
    "print(total)\n"
   ]
  },
  {
   "cell_type": "code",
   "execution_count": 14,
   "metadata": {},
   "outputs": [
    {
     "data": {
      "text/plain": [
       "2"
      ]
     },
     "execution_count": 14,
     "metadata": {},
     "output_type": "execute_result"
    }
   ],
   "source": []
  },
  {
   "cell_type": "code",
   "execution_count": null,
   "metadata": {},
   "outputs": [],
   "source": []
  }
 ],
 "metadata": {
  "kernelspec": {
   "display_name": "Python 3",
   "language": "python",
   "name": "python3"
  },
  "language_info": {
   "codemirror_mode": {
    "name": "ipython",
    "version": 3
   },
   "file_extension": ".py",
   "mimetype": "text/x-python",
   "name": "python",
   "nbconvert_exporter": "python",
   "pygments_lexer": "ipython3",
   "version": "3.7.10"
  }
 },
 "nbformat": 4,
 "nbformat_minor": 2
}
