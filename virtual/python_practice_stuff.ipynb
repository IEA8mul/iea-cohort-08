{
 "cells": [
  {
   "cell_type": "code",
   "execution_count": 23,
   "metadata": {},
   "outputs": [
    {
     "name": "stdout",
     "output_type": "stream",
     "text": [
      "Enter a string: eeeee\n",
      "The alt case is : EEEEE\n"
     ]
    }
   ],
   "source": [
    "#test_str = \"abcdefghijklmnopqrstuvwxyz\"\n",
    "data1 = str(input(\"Enter a string: \"))\n",
    "\n",
    "#print(\"The original string is : \" + str(test_str))\n",
    "(\"The original string is : \" + str(data1))\n",
    "\n",
    "res = \"\"\n",
    "#for idx in range(len(test_str)):\n",
    "for idx in range(len(data1)):\n",
    "    if not idx % 1 :\n",
    "       res = res + data1[idx].upper()\n",
    "    else:\n",
    "       res = res + data1[idx].lower()\n",
    "    \n",
    "print(\"The alt case is : \" + str(res))"
   ]
  },
  {
   "cell_type": "code",
   "execution_count": 38,
   "metadata": {},
   "outputs": [
    {
     "name": "stdout",
     "output_type": "stream",
     "text": [
      "{'cheerio': 'goodbye', 'knackered': 'tired', 'yonks': 'ages'}\n"
     ]
    }
   ],
   "source": [
    "slang = {'cheerio' : 'goodbye', 'knackered' : 'tired', 'yonks' : 'ages'}\n",
    "#slang2['smashing'] = 'terrific'\n",
    "#print(slang['cheerio'])\n",
    "print(slang)"
   ]
  },
  {
   "cell_type": "code",
   "execution_count": 42,
   "metadata": {},
   "outputs": [
    {
     "name": "stdout",
     "output_type": "stream",
     "text": [
      "awesome\n"
     ]
    }
   ],
   "source": [
    "slang['smashing'] = 'awesome'\n",
    "print(slang['smashing'])"
   ]
  },
  {
   "cell_type": "code",
   "execution_count": 43,
   "metadata": {},
   "outputs": [],
   "source": [
    "del slang['cheerio']"
   ]
  },
  {
   "cell_type": "code",
   "execution_count": 44,
   "metadata": {},
   "outputs": [
    {
     "name": "stdout",
     "output_type": "stream",
     "text": [
      "{'knackered': 'tired', 'yonks': 'ages', 'smashing': 'awesome'}\n"
     ]
    }
   ],
   "source": [
    "print(slang)"
   ]
  },
  {
   "cell_type": "code",
   "execution_count": 53,
   "metadata": {},
   "outputs": [
    {
     "name": "stdout",
     "output_type": "stream",
     "text": [
      "ages\n"
     ]
    }
   ],
   "source": [
    "result = slang.get('yonks')\n",
    "#print(result)\n",
    "#result = slang.get('bloddy')\n",
    "#print(result)\n",
    "\n",
    "if result:\n",
    "    print(result)\n",
    "else:\n",
    "    print('no key exist')"
   ]
  },
  {
   "cell_type": "code",
   "execution_count": 56,
   "metadata": {},
   "outputs": [
    {
     "name": "stdout",
     "output_type": "stream",
     "text": [
      "sorry, my ages's a bit tired\n"
     ]
    }
   ],
   "source": [
    "sentance = 'sorry, my ' + slang.get('yonks') + \"'s a bit \" + slang.get('knackered')\n",
    "print(sentance)"
   ]
  },
  {
   "cell_type": "code",
   "execution_count": 58,
   "metadata": {},
   "outputs": [
    {
     "name": "stdout",
     "output_type": "stream",
     "text": [
      "Breakfast Menu:\t ['Spam n Eggs', 'Spam n Jam', 'Spam n Ham']\n",
      "Lunch Menu:\t ['SLT (Spam-Lettuce-Tomato)', 'PB&S (PB&Spam)']\n",
      "Dinner Menu:\t ['Spalad', 'Spamghetti', 'Spam noodle soup']\n"
     ]
    }
   ],
   "source": [
    "menus = {'Breakfast' : ['Spam n Eggs', 'Spam n Jam', 'Spam n Ham'],\n",
    "         'Lunch' : ['SLT (Spam-Lettuce-Tomato)', 'PB&S (PB&Spam)'],\n",
    "         'Dinner' : ['Spalad', 'Spamghetti', 'Spam noodle soup']}\n",
    "print('Breakfast Menu:\\t', menus['Breakfast'])\n",
    "print('Lunch Menu:\\t', menus['Lunch'])\n",
    "print('Dinner Menu:\\t', menus['Dinner'])\n",
    "      "
   ]
  },
  {
   "cell_type": "code",
   "execution_count": 65,
   "metadata": {},
   "outputs": [
    {
     "name": "stdout",
     "output_type": "stream",
     "text": [
      "Price is 2.5\n",
      "total is 2.5\n",
      "Price is 3.5\n",
      "total is 6.0\n",
      "Price is 4.5\n",
      "total is 10.5\n",
      "avg is 3.5\n"
     ]
    }
   ],
   "source": [
    "#average proces \n",
    "total = 0\n",
    "prices = [2.50, 3.50, 4.50]\n",
    "for price in prices:\n",
    "    print('Price is', price)\n",
    "    total = total + price\n",
    "    print('total is', total)\n",
    "    \n",
    "average = total/len(prices)\n",
    "print('avg is', average)"
   ]
  },
  {
   "cell_type": "code",
   "execution_count": 126,
   "metadata": {},
   "outputs": [
    {
     "name": "stdout",
     "output_type": "stream",
     "text": [
      "average daily customer is 20.857142857142858\n"
     ]
    }
   ],
   "source": [
    "#average daily customers\n",
    "total = 0\n",
    "customers = [29, 21, 55, 5, 10, 14,12]\n",
    "for cust in customers:\n",
    "    total = total + cust\n",
    "    \n",
    "average = total/len(customers)\n",
    "print('average daily customer is', average)"
   ]
  },
  {
   "cell_type": "code",
   "execution_count": 69,
   "metadata": {},
   "outputs": [
    {
     "name": "stdout",
     "output_type": "stream",
     "text": [
      "0.5277159339670248\n",
      "4\n",
      "232\n"
     ]
    }
   ],
   "source": [
    "#gives random number from 0.0 to 1.0\n",
    "import random\n",
    "r1 = random.random()\n",
    "print(r1)\n",
    "\n",
    "#gives random choice from a list\n",
    "import random\n",
    "r2 = random.choice([1, 2, 3, 4, 5,])\n",
    "print(r2)\n",
    "\n",
    "#gives random number from range\n",
    "import random\n",
    "r3 = random.randint(1, 1000)\n",
    "print(r3)"
   ]
  },
  {
   "cell_type": "code",
   "execution_count": 71,
   "metadata": {},
   "outputs": [
    {
     "name": "stdout",
     "output_type": "stream",
     "text": [
      "947\n",
      "901\n",
      "884\n",
      "241\n",
      "713\n",
      "746\n",
      "951\n",
      "572\n",
      "228\n",
      "158\n"
     ]
    }
   ],
   "source": [
    "#inport the random module to get the random numbers \n",
    "import random\n",
    "#run a for loop 10 times to collect 10 random numbers from 1 to 1000\n",
    "for i in range(10):\n",
    "    ticket = random.randint(1,1000)\n",
    "#print the 10 random numbers for the tickets \n",
    "    print(ticket)"
   ]
  },
  {
   "cell_type": "code",
   "execution_count": 73,
   "metadata": {},
   "outputs": [
    {
     "name": "stdout",
     "output_type": "stream",
     "text": [
      "2005\n",
      "2007\n",
      "2009\n",
      "2011\n",
      "2013\n",
      "2015\n"
     ]
    }
   ],
   "source": [
    "#every other year since 2005 until 2016 \n",
    "#for loop in the range starting with 2005 and stopping at 2016\n",
    "#the 2 gives every other year \n",
    "for i in range(2005, 2016, 2):\n",
    "    print(i)"
   ]
  },
  {
   "cell_type": "code",
   "execution_count": 85,
   "metadata": {},
   "outputs": [
    {
     "name": "stdout",
     "output_type": "stream",
     "text": [
      "['Knackered Spam', 'Pip pip Spam', 'Squidgy Spam', 'Smashing Spam']\n"
     ]
    }
   ],
   "source": [
    "slang = ['Knackered', 'Pip pip', 'Squidgy', 'Smashing']\n",
    "menu = []\n",
    "for word in slang:\n",
    "    menu.append(word + ' Spam')\n",
    "    \n",
    "print(menu)"
   ]
  },
  {
   "cell_type": "code",
   "execution_count": 76,
   "metadata": {},
   "outputs": [
    {
     "name": "stdout",
     "output_type": "stream",
     "text": [
      "{'Knackered Spam': 0.5, 'Pip pip Spam': 1.5, 'Squidgy Spam': 2.5, 'Smashing Spam': 3.5}\n"
     ]
    }
   ],
   "source": [
    "menu_prices = {}\n",
    "price = 0.50\n",
    "for item in menu:\n",
    "    menu_prices[item] = price\n",
    "    price = price + 1\n",
    "    \n",
    "print(menu_prices)"
   ]
  },
  {
   "cell_type": "code",
   "execution_count": 80,
   "metadata": {},
   "outputs": [
    {
     "name": "stdout",
     "output_type": "stream",
     "text": [
      "Knacked Spam: $0.50\n",
      "Pip pip Spam: $1.50\n",
      "Squidgy Spam: $2.50\n",
      "Smashing Spam: $3.50\n"
     ]
    }
   ],
   "source": [
    "menu_prices = {'Knacked Spam' : 0.50, 'Pip pip Spam' : 1.50,\n",
    "               'Squidgy Spam' : 2.50, 'Smashing Spam' : 3.50}\n",
    "#in the for loop use menu_prices.items to ge tthe items in the distionary\n",
    "#use temp vaiarable names of name (key) & price (value) for each value in menu_prices \n",
    "for name, price in menu_prices.items():\n",
    "    \n",
    "#use sep to empty string for better spacing \n",
    "#format price with float and 2 decimals to not print $0.5\n",
    "    print(name, ': $', format(price, '.2f'), sep='')"
   ]
  },
  {
   "cell_type": "code",
   "execution_count": 81,
   "metadata": {},
   "outputs": [
    {
     "name": "stdout",
     "output_type": "stream",
     "text": [
      "x is 1\n",
      "x is 2\n"
     ]
    }
   ],
   "source": [
    "x = 1\n",
    "#while loop to run as long as x does not equal 3 \n",
    "#!= is not equal \n",
    "while x != 3:\n",
    "\n",
    "#print x is then the variable for x \n",
    "#then the variable for x + add 1 \n",
    "#giving x is 1 // x is 2 and while loop is done \n",
    "    print('x is' , x)\n",
    "    x = x + 1\n",
    "    "
   ]
  },
  {
   "cell_type": "code",
   "execution_count": 102,
   "metadata": {},
   "outputs": [
    {
     "name": "stdout",
     "output_type": "stream",
     "text": [
      "Guess a number betweeen 1 amd 10: 1\n",
      "Guess again2\n",
      "Guess again3\n",
      "Guess again4\n",
      "Guess again5\n",
      "Guess again6\n",
      "You win!\n"
     ]
    }
   ],
   "source": [
    "#guess a number\n",
    "#import the random module to produce a random number \n",
    "import random\n",
    "\n",
    "#assign variable num to the random.randinit and limit the number to 1 to 10\n",
    "num = random.randint(1,10)\n",
    "\n",
    "#ask the user to guess the number \n",
    "guess = int(input('Guess a number betweeen 1 amd 10: '))\n",
    "\n",
    "#set the times varible to 1 so can control number of guesses taken\n",
    "times = 1 \n",
    "\n",
    "#start a while loop for the guessing \n",
    "#set guess to != (not equal to) the number so they can guess again\n",
    "#use times variable (times + 1) to increase the number \n",
    "#of times guess to avoid indefinate loop\n",
    "while guess != num:\n",
    "    guess = int(input('Guess again'))\n",
    "    times = times + 1\n",
    "    \n",
    "#add if so the max guesses is 3\n",
    "    if(times ==3):\n",
    "        break\n",
    "    \n",
    "#when correct number is guessed print \n",
    "if(guess == num):\n",
    "    print('You win!')\n",
    "    \n",
    "#else you lose \n",
    "else:\n",
    "    print('You lose! The number was ',num)\n",
    "    "
   ]
  },
  {
   "cell_type": "code",
   "execution_count": 116,
   "metadata": {},
   "outputs": [
    {
     "name": "stdout",
     "output_type": "stream",
     "text": [
      "{'spam': '1', 'eggs': '2', 'ham': '3'}\n"
     ]
    }
   ],
   "source": [
    "#the variable menu i have been using is a list \n",
    "#to run this code i need menu to be a dictionary\n",
    "#hence nenu2 created to run next block below - take food order \n",
    "menu2 = {'spam' : '1' , 'eggs' : '2', 'ham' : '3'}\n",
    "print(menu2)"
   ]
  },
  {
   "cell_type": "code",
   "execution_count": 121,
   "metadata": {},
   "outputs": [
    {
     "name": "stdout",
     "output_type": "stream",
     "text": [
      "{'spam': '1', 'eggs': '2', 'ham': '3'}\n"
     ]
    },
    {
     "data": {
      "text/plain": [
       "dict"
      ]
     },
     "execution_count": 121,
     "metadata": {},
     "output_type": "execute_result"
    }
   ],
   "source": [
    "print(menu2)\n",
    "type(menu2)"
   ]
  },
  {
   "cell_type": "code",
   "execution_count": 118,
   "metadata": {},
   "outputs": [
    {
     "name": "stdout",
     "output_type": "stream",
     "text": [
      "What you order? (Q to Quit)bird\n",
      "Menu item doesn't exist\n",
      "anything else? (Q to Quit)leggs\n",
      "Menu item doesn't exist\n",
      "anything else? (Q to Quit)q\n",
      "[]\n"
     ]
    }
   ],
   "source": [
    "#create an empty orders list\n",
    "#then ask the customer what thye want with quit to end the order \n",
    "orders = []\n",
    "order = input(\"What you order? (Q to Quit)\")\n",
    "\n",
    "#while loop to take order from the menu and if not equal (!=) to quit\n",
    "while (order.upper() != 'Q'):\n",
    "    \n",
    "#find the order and append it to the variaable orders \n",
    "    found = menu2.get(order)\n",
    "    if found:\n",
    "        orders.append(order)\n",
    "#if item does not exist let know \n",
    "    else:\n",
    "        print(\"Menu item doesn't exist\")\n",
    "        \n",
    "#to break the loop ask one more time \n",
    "    order = input(\"anything else? (Q to Quit)\")\n",
    "\n",
    "print(orders)"
   ]
  },
  {
   "cell_type": "code",
   "execution_count": 87,
   "metadata": {},
   "outputs": [
    {
     "name": "stdout",
     "output_type": "stream",
     "text": [
      "['Knackered Spam', 'Pip pip Spam', 'Squidgy Spam', 'Smashing Spam']\n"
     ]
    }
   ],
   "source": [
    "print(menu)"
   ]
  },
  {
   "cell_type": "code",
   "execution_count": 104,
   "metadata": {},
   "outputs": [
    {
     "name": "stdout",
     "output_type": "stream",
     "text": [
      "{'Breakfast': ['Spam n Eggs', 'Spam n Jam', 'Spam n Ham'], 'Lunch': ['SLT (Spam-Lettuce-Tomato)', 'PB&S (PB&Spam)'], 'Dinner': ['Spalad', 'Spamghetti', 'Spam noodle soup']}\n"
     ]
    }
   ],
   "source": [
    "print(menus)"
   ]
  },
  {
   "cell_type": "code",
   "execution_count": 111,
   "metadata": {},
   "outputs": [
    {
     "name": "stdout",
     "output_type": "stream",
     "text": [
      "['Knackered Spam', 'Pip pip Spam', 'Squidgy Spam', 'Smashing Spam']\n"
     ]
    }
   ],
   "source": [
    "print(menu)"
   ]
  },
  {
   "cell_type": "code",
   "execution_count": 122,
   "metadata": {},
   "outputs": [
    {
     "data": {
      "text/plain": [
       "list"
      ]
     },
     "execution_count": 122,
     "metadata": {},
     "output_type": "execute_result"
    }
   ],
   "source": [
    "type(menu)"
   ]
  },
  {
   "cell_type": "code",
   "execution_count": 112,
   "metadata": {},
   "outputs": [
    {
     "data": {
      "text/plain": [
       "dict"
      ]
     },
     "execution_count": 112,
     "metadata": {},
     "output_type": "execute_result"
    }
   ],
   "source": [
    "type(menus)\n"
   ]
  },
  {
   "cell_type": "code",
   "execution_count": 119,
   "metadata": {},
   "outputs": [
    {
     "data": {
      "text/plain": [
       "dict"
      ]
     },
     "execution_count": 119,
     "metadata": {},
     "output_type": "execute_result"
    }
   ],
   "source": [
    "type(menu2)"
   ]
  },
  {
   "cell_type": "code",
   "execution_count": null,
   "metadata": {},
   "outputs": [],
   "source": [
    "# - functions - all start with def the name of the functuon (how it is called later) \n",
    "# - and colon which marks the begining of the function code \n",
    "# - in paren's goes variables or values to work with ie: def average(prices):\n"
   ]
  },
  {
   "cell_type": "code",
   "execution_count": 123,
   "metadata": {},
   "outputs": [
    {
     "name": "stdout",
     "output_type": "stream",
     "text": [
      "3.75\n"
     ]
    }
   ],
   "source": [
    "# 3- then the process is run on the numbers \n",
    "def average(numbers):\n",
    "    total = 0\n",
    "    for num in numbers:\n",
    "        total = total + num\n",
    "        \n",
    "    avg = total/len(numbers)\n",
    "# 4- the result is sent to result\n",
    "    return avg\n",
    "\n",
    "#use for prices \n",
    "\n",
    "# 1-program really start here \n",
    "prices = [2.50, 3.00, 4.50, 5.00]\n",
    "\n",
    "# 2- then the function os called to get the average \n",
    "result = average(prices)\n",
    "\n",
    "# 4- print out the result\n",
    "print(result)\n",
    "\n"
   ]
  },
  {
   "cell_type": "code",
   "execution_count": 131,
   "metadata": {},
   "outputs": [
    {
     "name": "stdout",
     "output_type": "stream",
     "text": [
      "[]\n"
     ]
    }
   ],
   "source": [
    "import random\n",
    "\n",
    "lotto_numbers = []\n",
    "lotto_nums = []\n",
    "\n",
    "def lotto_numbers():\n",
    "    lotto_nums = []\n",
    "    for i in range(5):\n",
    "        lotto_nums.append(random.randint(1, 53))\n",
    "    numbers = lotto_numbers()\n",
    "    return lotto_nums\n",
    "        \n",
    "\n",
    "print(lotto_nums)"
   ]
  },
  {
   "cell_type": "code",
   "execution_count": 93,
   "metadata": {},
   "outputs": [
    {
     "ename": "NameError",
     "evalue": "name 'prices' is not defined",
     "output_type": "error",
     "traceback": [
      "\u001b[0;31m---------------------------------------------------------------------------\u001b[0m",
      "\u001b[0;31mNameError\u001b[0m                                 Traceback (most recent call last)",
      "\u001b[0;32m<ipython-input-93-53eccfb20cf7>\u001b[0m in \u001b[0;36m<module>\u001b[0;34m\u001b[0m\n\u001b[1;32m     15\u001b[0m \u001b[0;34m\u001b[0m\u001b[0m\n\u001b[1;32m     16\u001b[0m \u001b[0;31m# 2- then runs the code in main() until average() gets called\u001b[0m\u001b[0;34m\u001b[0m\u001b[0;34m\u001b[0m\u001b[0;34m\u001b[0m\u001b[0m\n\u001b[0;32m---> 17\u001b[0;31m \u001b[0mresult\u001b[0m \u001b[0;34m=\u001b[0m \u001b[0maverage\u001b[0m\u001b[0;34m(\u001b[0m\u001b[0mprices\u001b[0m\u001b[0;34m)\u001b[0m\u001b[0;34m\u001b[0m\u001b[0;34m\u001b[0m\u001b[0m\n\u001b[0m\u001b[1;32m     18\u001b[0m \u001b[0;34m\u001b[0m\u001b[0m\n\u001b[1;32m     19\u001b[0m \u001b[0mprint\u001b[0m\u001b[0;34m(\u001b[0m\u001b[0mresult\u001b[0m\u001b[0;34m)\u001b[0m\u001b[0;34m\u001b[0m\u001b[0;34m\u001b[0m\u001b[0m\n",
      "\u001b[0;31mNameError\u001b[0m: name 'prices' is not defined"
     ]
    }
   ],
   "source": [
    "#another variation of above - \n",
    "\n",
    "# 3- then average() runs and returns a value to main and main continues \n",
    "def average(numbers):\n",
    "    total = 0\n",
    "    for num in list:\n",
    "        total = total + num\n",
    "        \n",
    "    avg = total/len(numbers)\n",
    "    return avg\n",
    "\n",
    "\n",
    "def main():\n",
    "    prices = [29, 30, 45, 50]\n",
    "\n",
    "# 2- then runs the code in main() until average() gets called  \n",
    "result = average(prices)\n",
    "\n",
    "print(result)\n",
    "\n",
    "# 1- all execution starts here  \n",
    "main()\n",
    "\n",
    "\n"
   ]
  },
  {
   "cell_type": "code",
   "execution_count": 145,
   "metadata": {},
   "outputs": [],
   "source": [
    "def print_menu(menu):\n",
    "    for name, price in menu.items():\n",
    "        print(name,  ': $', format(proce,  '.2f'), sep='')"
   ]
  },
  {
   "cell_type": "code",
   "execution_count": null,
   "metadata": {},
   "outputs": [],
   "source": []
  },
  {
   "cell_type": "code",
   "execution_count": 6,
   "metadata": {},
   "outputs": [
    {
     "name": "stdout",
     "output_type": "stream",
     "text": [
      "Monty Python Python Monty\n"
     ]
    }
   ],
   "source": [
    "first_name = 'Monty'\n",
    "last_name = 'Python' \n",
    "full_name = first_name + ' ' + last_name\n",
    "\n",
    "print(full_name, last_name, first_name)"
   ]
  },
  {
   "cell_type": "code",
   "execution_count": 10,
   "metadata": {},
   "outputs": [
    {
     "name": "stdout",
     "output_type": "stream",
     "text": [
      "Monty Python is a comedy group formed in 1969 Hell's Grannies\n"
     ]
    }
   ],
   "source": [
    "#history of python\n",
    "name = 'Monty Python'\n",
    "description = 'comedy group'\n",
    "year = 1969\n",
    "sketch = \"Hell's Grannies\"\n",
    "\n",
    "#- can use sentance print Or just print \n",
    "sentance = name + ' is a ' + description + ' formed in ' + str(year) + ' ' + sketch\n",
    "print(sentance)"
   ]
  },
  {
   "cell_type": "code",
   "execution_count": 15,
   "metadata": {},
   "outputs": [
    {
     "name": "stdout",
     "output_type": "stream",
     "text": [
      "Famous Work: \n",
      "\tHell's Grannies \n",
      "\tThe Dead Parrot\n"
     ]
    }
   ],
   "source": [
    "#- sketches\n",
    "sketch1 = \"\\n\\tHell's Grannies\"\n",
    "sketch2 = \"\\n\\tThe Dead Parrot\"\n",
    "print('Famous Work:' , sketch1, sketch2)"
   ]
  },
  {
   "cell_type": "code",
   "execution_count": 22,
   "metadata": {},
   "outputs": [
    {
     "data": {
      "text/plain": [
       "'n'"
      ]
     },
     "execution_count": 22,
     "metadata": {},
     "output_type": "execute_result"
    }
   ],
   "source": [
    "greeting = 'Hello Python'\n",
    "greeting[11]"
   ]
  },
  {
   "cell_type": "code",
   "execution_count": 20,
   "metadata": {},
   "outputs": [
    {
     "name": "stdout",
     "output_type": "stream",
     "text": [
      "12\n"
     ]
    }
   ],
   "source": [
    "greeting = 'Hello Python'\n",
    "print( len(greeting))"
   ]
  },
  {
   "cell_type": "code",
   "execution_count": 28,
   "metadata": {},
   "outputs": [
    {
     "data": {
      "text/plain": [
       "'ning'"
      ]
     },
     "execution_count": 28,
     "metadata": {},
     "output_type": "execute_result"
    }
   ],
   "source": [
    "word1 = 'Good Evening'\n",
    "#- range of letters 2 through 12\n",
    "word1[2:12]\n",
    "#- range of letters 0 through 8\n",
    "word1[:8]\n",
    "#- range of letters 8 through end\n",
    "word1[8:]\n",
    "\n",
    "#- slice formula - variable[start:end+1]"
   ]
  },
  {
   "cell_type": "code",
   "execution_count": 33,
   "metadata": {},
   "outputs": [
    {
     "name": "stdout",
     "output_type": "stream",
     "text": [
      "od ning\n"
     ]
    }
   ],
   "source": [
    "#- calculate halfway index 'Good Evening'\n",
    "#- using 1 / will give a float w/ decimal -- using // will round down the number\n",
    "word1 = 'Good'\n",
    "half1 = len(word1)//2\n",
    "end1 = word1[half1:]\n",
    "word2 = 'Evening'\n",
    "half2 = len(word2)//2\n",
    "end2 = word2[half2:]\n",
    "#- \n",
    "print(end1, end2)\n",
    "\n",
    "#- slice formula - variable[start:end+1]"
   ]
  },
  {
   "cell_type": "code",
   "execution_count": null,
   "metadata": {},
   "outputs": [],
   "source": [
    "#- Comparsion operators - \n",
    "#- < less than \n",
    "#- <= less than equal to \n",
    "#- == equal to \n",
    "#- >= greater than equal to \n",
    "#- > greater than \n",
    "#- != not equal to \n",
    "\n"
   ]
  },
  {
   "cell_type": "code",
   "execution_count": 38,
   "metadata": {},
   "outputs": [
    {
     "name": "stdout",
     "output_type": "stream",
     "text": [
      "Retreat\n",
      "Raise the white flag\n",
      "Knights of the round tble\n"
     ]
    }
   ],
   "source": [
    "#- python battle rules \n",
    "num_knights = 2\n",
    "\n",
    "if num_knights < 3:\n",
    "#- runs if true\n",
    "    print('Retreat')\n",
    "    print('Raise the white flag')\n",
    "    \n",
    "#- always runs\n",
    "print('Knights of the round tble')\n",
    "    \n",
    "    "
   ]
  },
  {
   "cell_type": "code",
   "execution_count": 40,
   "metadata": {},
   "outputs": [
    {
     "name": "stdout",
     "output_type": "stream",
     "text": [
      "Retreat\n"
     ]
    }
   ],
   "source": [
    "num_knights = 2\n",
    "\n",
    "if num_knights < 3:\n",
    "    print('Retreat')\n",
    "else:\n",
    "    print('Truce?')\n"
   ]
  },
  {
   "cell_type": "code",
   "execution_count": 43,
   "metadata": {},
   "outputs": [
    {
     "name": "stdout",
     "output_type": "stream",
     "text": [
      "Trojan Rabbit\n"
     ]
    }
   ],
   "source": [
    "#- more rules\n",
    "num_knights = 12\n",
    "day = 'Wednesday'\n",
    "\n",
    "if num_knights < 3 or day == 'Monday':\n",
    "    print('Retreat')\n",
    "elif num_knights >= 10 and day == \"Wednesday\":\n",
    "    print('Trojan Rabbit')\n",
    "elif day == 'Tuesday':\n",
    "    print('Taco Night')\n",
    "else:\n",
    "    print('Truce?')\n",
    "    \n",
    "    \n",
    "    "
   ]
  },
  {
   "cell_type": "code",
   "execution_count": 46,
   "metadata": {},
   "outputs": [
    {
     "name": "stdout",
     "output_type": "stream",
     "text": [
      "Enter the number of knights23\n",
      "What day is it?Tuesday\n",
      "Taco Night\n"
     ]
    }
   ],
   "source": [
    "#- rules with use input\n",
    "num_knights = int(input('Enter the number of knights'))\n",
    "day = input('What day is it?')\n",
    "\n",
    "if num_knights < 3 or day == 'Monday':\n",
    "    print('Retreat')\n",
    "elif num_knights >= 10 and day == \"Wednesday\":\n",
    "    print('Trojan Rabbit')\n",
    "elif day == 'Tuesday':\n",
    "    print('Taco Night')\n",
    "else:\n",
    "    print('Truce?')"
   ]
  },
  {
   "cell_type": "code",
   "execution_count": 49,
   "metadata": {},
   "outputs": [
    {
     "name": "stdout",
     "output_type": "stream",
     "text": [
      "Enter number of knights5\n",
      "Enter day of weekMonday\n",
      "Enter type of enemyknights\n",
      "Retreat\n",
      "Truce\n"
     ]
    }
   ],
   "source": [
    "#- final of course \n",
    "num_knights = int(input('Enter number of knights'))\n",
    "day = input('Enter day of week')\n",
    "enemy = input('Enter type of enemy')\n",
    "\n",
    "if enemy == 'killer bunny':\n",
    "    print('Holy hand grenade')\n",
    "else:\n",
    "    if num_knights <3 or day == 'Monday':\n",
    "        print('Retreat')\n",
    "    if num_knights >=10 and day == 'Wednesday':\n",
    "        print('Trojan Rabbit')\n",
    "    else:\n",
    "        print('Truce')\n",
    "        "
   ]
  },
  {
   "cell_type": "code",
   "execution_count": 53,
   "metadata": {},
   "outputs": [
    {
     "name": "stdout",
     "output_type": "stream",
     "text": [
      "enter rock, paper or python:\n",
      "rock\n",
      "TIE\n"
     ]
    }
   ],
   "source": [
    "computer_choice = 'rock'\n",
    "user_choice = input(\"enter rock, paper or python:\\n\")\n",
    "\n",
    "if computer_choice == user_choice:\n",
    "    print('TIE')\n",
    "else:\n",
    "    print('you lose , computer wins')\n"
   ]
  },
  {
   "cell_type": "code",
   "execution_count": 61,
   "metadata": {},
   "outputs": [
    {
     "name": "stdout",
     "output_type": "stream",
     "text": [
      "enter rock, paper or python:\n",
      "python\n",
      "you lose , computer wins\n"
     ]
    }
   ],
   "source": [
    "#computer_choice = 'rock'\n",
    "user_choice = input(\"enter rock, paper or python:\\n\")\n",
    "\n",
    "if computer_choice == user_choice:\n",
    "    print('TIE')\n",
    "elif user_choice == 'rock' and computer_choice == 'python':\n",
    "    print('WIN')\n",
    "elif user_choice == 'paper' and computer_choice == 'rock':\n",
    "    print('WIN')\n",
    "elif user_choice == 'python' and computer_choice == 'paper':\n",
    "    print('WIN')\n",
    "    \n",
    "else:\n",
    "    print('you lose , computer wins')"
   ]
  },
  {
   "cell_type": "code",
   "execution_count": 108,
   "metadata": {},
   "outputs": [
    {
     "name": "stdout",
     "output_type": "stream",
     "text": [
      "['cheerio', 'pip pip', 'smashing']\n"
     ]
    }
   ],
   "source": [
    "#- back to bristish python slang \n",
    "\n",
    "slang = ['cheerio' , 'pip pip' , 'smashing']\n",
    "print(slang)"
   ]
  },
  {
   "cell_type": "code",
   "execution_count": 109,
   "metadata": {},
   "outputs": [
    {
     "name": "stdout",
     "output_type": "stream",
     "text": [
      "['cheerio', 'pip pip', 'smashing', 'cheeky', 'yonks']\n"
     ]
    }
   ],
   "source": [
    "slang = ['cheerio' , 'pip pip' , 'smashing']\n",
    "slang.append('cheeky')\n",
    "slang.append('yonks')\n",
    "print(slang)"
   ]
  },
  {
   "cell_type": "code",
   "execution_count": 111,
   "metadata": {},
   "outputs": [
    {
     "name": "stdout",
     "output_type": "stream",
     "text": [
      "['cheerio', 'pip pip', 'smashing', 'yip yip']\n"
     ]
    }
   ],
   "source": [
    "slang = ['cheerio' , 'pip pip' , 'smashing' , 'cheeky' , 'yonks' , 'yip yip']\n",
    "#- removes the word yonks\n",
    "slang.remove('yonks')\n",
    "#- removes what is in slice 3 which was cheeky\n",
    "del slang[3]\n",
    "print(slang)"
   ]
  },
  {
   "cell_type": "code",
   "execution_count": 121,
   "metadata": {},
   "outputs": [
    {
     "name": "stdout",
     "output_type": "stream",
     "text": [
      "21.5\n",
      "3.5833333333333335\n"
     ]
    }
   ],
   "source": [
    "#- average price calc \n",
    "total = 0\n",
    "prices = [2.50, 3, 2.50, 4, 4.50, 5]\n",
    "\n",
    "for price in prices:\n",
    "    total = total + price\n",
    "average = total/len(prices)\n",
    "\n",
    "print(total)\n",
    "print(average)"
   ]
  },
  {
   "cell_type": "code",
   "execution_count": 122,
   "metadata": {},
   "outputs": [
    {
     "name": "stdout",
     "output_type": "stream",
     "text": [
      "146\n",
      "20.857142857142858\n"
     ]
    }
   ],
   "source": [
    "#- average daily customers\n",
    "total = 0\n",
    "customers = [29, 21, 55, 5, 10, 14,12]\n",
    "\n",
    "for cust in customers:\n",
    "    total = total + cust\n",
    "average = total/len(customers)\n",
    "print(total)\n",
    "print(average)"
   ]
  },
  {
   "cell_type": "code",
   "execution_count": null,
   "metadata": {},
   "outputs": [],
   "source": []
  },
  {
   "cell_type": "code",
   "execution_count": null,
   "metadata": {},
   "outputs": [],
   "source": []
  },
  {
   "cell_type": "code",
   "execution_count": null,
   "metadata": {},
   "outputs": [],
   "source": []
  },
  {
   "cell_type": "code",
   "execution_count": null,
   "metadata": {},
   "outputs": [],
   "source": []
  },
  {
   "cell_type": "code",
   "execution_count": null,
   "metadata": {},
   "outputs": [],
   "source": []
  }
 ],
 "metadata": {
  "kernelspec": {
   "display_name": "Python 3",
   "language": "python",
   "name": "python3"
  },
  "language_info": {
   "codemirror_mode": {
    "name": "ipython",
    "version": 3
   },
   "file_extension": ".py",
   "mimetype": "text/x-python",
   "name": "python",
   "nbconvert_exporter": "python",
   "pygments_lexer": "ipython3",
   "version": "3.7.10"
  }
 },
 "nbformat": 4,
 "nbformat_minor": 2
}
