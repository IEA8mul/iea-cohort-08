{
 "cells": [
  {
   "cell_type": "markdown",
   "metadata": {},
   "source": [
    "# Python Syntax Reference\n",
    "\n",
    "This cheatsheet is intended as a quick reference to help you grow more accustomed to the structure of Python Syntax.  You may still need to use the documentation to reference certain functions or modules\n",
    "\n",
    "* __Python Standard Library Reference:__ https://docs.python.org/3/library/\n",
    "* __Python Language Reference:__ https://docs.python.org/3/reference/index.html\n",
    "* __Python Official Tutorial:__ https://docs.python.org/3/tutorial/index.html"
   ]
  },
  {
   "cell_type": "markdown",
   "metadata": {},
   "source": [
    "## Literal Values\n",
    "\n",
    "Literal values are hard coded data in Python.  How they are specified depends on the *type* of data you want to use."
   ]
  },
  {
   "cell_type": "markdown",
   "metadata": {},
   "source": [
    "### Integers\n",
    "\n",
    "A numeric value which represents a whole number, positive or negative (or zero)"
   ]
  },
  {
   "cell_type": "code",
   "execution_count": null,
   "metadata": {},
   "outputs": [],
   "source": [
    "# Positive integer\n",
    "42"
   ]
  },
  {
   "cell_type": "code",
   "execution_count": null,
   "metadata": {},
   "outputs": [],
   "source": [
    "# Negative integer\n",
    "-711"
   ]
  },
  {
   "cell_type": "code",
   "execution_count": null,
   "metadata": {},
   "outputs": [],
   "source": [
    "# Literal zero\n",
    "0"
   ]
  },
  {
   "cell_type": "code",
   "execution_count": null,
   "metadata": {},
   "outputs": [],
   "source": [
    "# Integers in other bases - prefix with 0 and a letter indicating the base\n",
    "0x2A  # 42 in hexadecimal - 0x prefix\n",
    "0o52  # 42 in octal - 0o prefix\n",
    "0b101010  # 42 in binary - 0b prefix"
   ]
  },
  {
   "cell_type": "markdown",
   "metadata": {},
   "source": [
    "### Floats (Floating Point)\n",
    "\n",
    "A numeric value with a fractional component (decimal point). Can be positive, negative, or 0.  \n",
    "Must be written with a decimal point in the value."
   ]
  },
  {
   "cell_type": "code",
   "execution_count": null,
   "metadata": {},
   "outputs": [],
   "source": [
    "# Positive float\n",
    "3.1415"
   ]
  },
  {
   "cell_type": "code",
   "execution_count": null,
   "metadata": {},
   "outputs": [],
   "source": [
    "# Negative Float\n",
    "-17.552"
   ]
  },
  {
   "cell_type": "code",
   "execution_count": null,
   "metadata": {},
   "outputs": [],
   "source": [
    "# Zero float\n",
    "0.0"
   ]
  },
  {
   "cell_type": "code",
   "execution_count": null,
   "metadata": {},
   "outputs": [],
   "source": [
    "# Float written with exponential notation (https://en.wikipedia.org/wiki/Scientific_notation#E_notation)\n",
    "1.253e-07  # 0.0000001253"
   ]
  },
  {
   "cell_type": "markdown",
   "metadata": {},
   "source": [
    "### Strings\n",
    "\n",
    "Sequences of characters enclosed in quotes.  Strings in Python 3 can contain unicode characters."
   ]
  },
  {
   "cell_type": "code",
   "execution_count": null,
   "metadata": {},
   "outputs": [],
   "source": [
    "# Alphabetical string\n",
    "\"Hello World\""
   ]
  },
  {
   "cell_type": "code",
   "execution_count": null,
   "metadata": {},
   "outputs": [],
   "source": [
    "# Numeric string\n",
    "\"1337\""
   ]
  },
  {
   "cell_type": "code",
   "execution_count": null,
   "metadata": {},
   "outputs": [],
   "source": [
    "# Empty (zero-length) string\n",
    "\"\""
   ]
  },
  {
   "cell_type": "code",
   "execution_count": null,
   "metadata": {},
   "outputs": [],
   "source": [
    "# Both single and double quotes are equivalent\n",
    "'Hello World'"
   ]
  },
  {
   "cell_type": "code",
   "execution_count": null,
   "metadata": {},
   "outputs": [],
   "source": [
    "# Special characters are escaped with backslashes\n",
    "\"Here is a quote: \\\"\"  # Escaped Quote"
   ]
  },
  {
   "cell_type": "code",
   "execution_count": null,
   "metadata": {},
   "outputs": [],
   "source": [
    "\"A tab:\\tand a newline:\\nin a string. Use print() to see them!\""
   ]
  },
  {
   "cell_type": "code",
   "execution_count": null,
   "metadata": {},
   "outputs": [],
   "source": [
    "\"Even Unicode Characters work in strings! \\U0001F601 \\U0001F499\\U0001F40D\\U0001F49B\""
   ]
  },
  {
   "cell_type": "code",
   "execution_count": null,
   "metadata": {},
   "outputs": [],
   "source": [
    "# Multiline strings\n",
    "\"\"\"This string contains: \n",
    "    - Embedded newlines\n",
    "    - Embedded intendations\n",
    "    - No literal backslashes!\"\"\""
   ]
  },
  {
   "cell_type": "markdown",
   "metadata": {},
   "source": [
    "### Booleans\n",
    "\n",
    "Booleans can only be True or False.  The values are case sensitive!"
   ]
  },
  {
   "cell_type": "code",
   "execution_count": null,
   "metadata": {},
   "outputs": [],
   "source": [
    "True"
   ]
  },
  {
   "cell_type": "code",
   "execution_count": null,
   "metadata": {},
   "outputs": [],
   "source": [
    "False"
   ]
  },
  {
   "cell_type": "markdown",
   "metadata": {},
   "source": [
    "### Lists\n",
    "\n",
    "Lists are created using square brackets `[]` surrounding any number of objects separated by commas"
   ]
  },
  {
   "cell_type": "code",
   "execution_count": null,
   "metadata": {},
   "outputs": [],
   "source": [
    "# Empty list\n",
    "[]"
   ]
  },
  {
   "cell_type": "code",
   "execution_count": null,
   "metadata": {},
   "outputs": [],
   "source": [
    "# Single element list\n",
    "[\"today\"]"
   ]
  },
  {
   "cell_type": "code",
   "execution_count": null,
   "metadata": {},
   "outputs": [],
   "source": [
    "# Multiple element list\n",
    "[\"yes\", \"no\", \"maybe\"]"
   ]
  },
  {
   "cell_type": "markdown",
   "metadata": {},
   "source": [
    "### Dictionaries\n",
    "\n",
    "Dictionaries are created using the curly brackets `{}` surrounding any number of pairs of objects.  Each dictionary item must have both a key and a value, separated by a colon.  Items are separated by commas."
   ]
  },
  {
   "cell_type": "code",
   "execution_count": null,
   "metadata": {},
   "outputs": [],
   "source": [
    "# Empty dictionary\n",
    "{}"
   ]
  },
  {
   "cell_type": "code",
   "execution_count": null,
   "metadata": {},
   "outputs": [],
   "source": [
    "# Dictionary with a single item\n",
    "{\"flavor\": \"mint chocolate\"}"
   ]
  },
  {
   "cell_type": "code",
   "execution_count": null,
   "metadata": {},
   "outputs": [],
   "source": [
    "# Dictionary with multiple items\n",
    "{\"burger\": 5.99, \"fries\": 0.99, \"soda\": 1.99}"
   ]
  },
  {
   "cell_type": "markdown",
   "metadata": {},
   "source": [
    "## Variable Assignment\n",
    "\n",
    "Variables in Python can be used to refer to data by a more readable name.  Python variables may be named using alphanumeric characters or the underscore character.\n",
    "\n",
    "Variable assignment takes the following form:\n",
    "\n",
    "    variable_name = <expression>\n",
    "    \n",
    "where _\\<expression\\>_ can be any valid Python expression\n"
   ]
  },
  {
   "cell_type": "code",
   "execution_count": null,
   "metadata": {},
   "outputs": [],
   "source": [
    "# Variables are usually named in all lowercase\n",
    "greeting = \"Hello\""
   ]
  },
  {
   "cell_type": "code",
   "execution_count": null,
   "metadata": {},
   "outputs": [],
   "source": [
    "# Longer variable names typically use underscores to separate words\n",
    "first_letter_of_alphabet = \"A\""
   ]
  },
  {
   "cell_type": "code",
   "execution_count": null,
   "metadata": {},
   "outputs": [],
   "source": [
    "# Variables take on whichever type they are assigned\n",
    "\n",
    "# int variable\n",
    "num_wishes = 3\n",
    "\n",
    "# float variable\n",
    "taco_price = 0.99\n",
    "\n",
    "# bool variable\n",
    "is_tuesday = True"
   ]
  },
  {
   "cell_type": "code",
   "execution_count": null,
   "metadata": {},
   "outputs": [],
   "source": [
    "# Variables can be set by the result of a complex expression\n",
    "radius = 4\n",
    "circumference = 3.1415 * radius ** 2"
   ]
  },
  {
   "cell_type": "markdown",
   "metadata": {},
   "source": [
    "## Expressions\n",
    "\n",
    "_Expressions_ are a form of Python syntax that are evaluated to produce a single result.  Expressions are used by many other parts of Python syntax (like variable assignment).  Expressions may include literals, variables, operators, or function calls, and may be nested.\n",
    "\n",
    "Expressions are evaluated according to Python's [Operator Precendence](https://docs.python.org/3/reference/expressions.html#operator-precedence) which follows the order of operations from mathematics."
   ]
  },
  {
   "cell_type": "code",
   "execution_count": null,
   "metadata": {},
   "outputs": [],
   "source": [
    "# Single literal values are Expressions\n",
    "1212"
   ]
  },
  {
   "cell_type": "code",
   "execution_count": null,
   "metadata": {},
   "outputs": [],
   "source": [
    "# Single variable names are expressions\n",
    "is_tuesday"
   ]
  },
  {
   "cell_type": "code",
   "execution_count": null,
   "metadata": {},
   "outputs": [],
   "source": [
    "# Variables and literal values combined with operators are expressions\n",
    "radius + 2"
   ]
  },
  {
   "cell_type": "code",
   "execution_count": null,
   "metadata": {},
   "outputs": [],
   "source": [
    "# Function calls are expressions that evaluate to their return value\n",
    "int('15')"
   ]
  },
  {
   "cell_type": "code",
   "execution_count": null,
   "metadata": {},
   "outputs": [],
   "source": [
    "# Expressions can be complex, and are evaluated one set of operands at a time, by precedence, left to right\n",
    "int('100') * 0.5 // 2 + (num_wishes - 2)"
   ]
  },
  {
   "cell_type": "markdown",
   "metadata": {},
   "source": [
    "## Function Calls (invoking)\n",
    "\n",
    "To _call_ or _invoke_ a function, you must use the paretheses after the function name, in the form:\n",
    "\n",
    "    function_name()\n",
    "    \n",
    "Some functions also require _parameters_ or _arguments_, which appear inside the parentheses:\n",
    "\n",
    "    function_name(param1, param2, param3)"
   ]
  },
  {
   "cell_type": "code",
   "execution_count": null,
   "metadata": {},
   "outputs": [],
   "source": [
    "# Call the int function with no parameters\n",
    "int()"
   ]
  },
  {
   "cell_type": "code",
   "execution_count": null,
   "metadata": {},
   "outputs": [],
   "source": [
    "# Call the print function to print \"Hello World\"\n",
    "print(\"Hello World\")"
   ]
  },
  {
   "cell_type": "code",
   "execution_count": null,
   "metadata": {},
   "outputs": [],
   "source": [
    "# Call the print function and print several values\n",
    "print(\"Hello\", 37, 1.21)"
   ]
  },
  {
   "cell_type": "code",
   "execution_count": null,
   "metadata": {},
   "outputs": [],
   "source": [
    "# Using the function name without the parentheses will NOT call the function\n",
    "print"
   ]
  },
  {
   "cell_type": "markdown",
   "metadata": {},
   "source": [
    "### Some Useful Built-in Functions\n",
    "\n",
    "- `input` - Read from standard input\n",
    "- `print` - Write to standard output\n",
    "- `bool` - Convert an object to a boolean\n",
    "- `dict` - Convert an object to a dictionary\n",
    "- `float` - Convert an object to a float\n",
    "- `int` - Convert an object to an integer\n",
    "- `list` - Convert an object into a list\n",
    "- `str` - Convert an object into a string\n",
    "- `len` - Get the length of a sequence\n",
    "- `help` - Get inline help on a function or module\n",
    "\n",
    "Complete list: https://docs.python.org/3/library/functions.html\n"
   ]
  },
  {
   "cell_type": "markdown",
   "metadata": {},
   "source": [
    "## Conditional Statements (if statement)\n",
    "\n",
    "Conditional statements allow code to _branch_, or take different paths depending on the evaluation of the condition.  Using conditionals, code can make decisions on which code to execute.\n",
    "\n",
    "Conditionals take the following form:\n",
    "\n",
    "    if <expression>:\n",
    "        <any valid Python code>\n",
    "    elif <expression>:\n",
    "        <any valid Python code>\n",
    "    else:\n",
    "        <any valid Python code>\n",
    "        \n",
    "The `if` statement may have any number of `elif` satements and a single `else` statement attached.  Both `elif` and `else` are optional and may be omitted.\n",
    "\n",
    "The code inside of the `if` statement should be indented 4 spaces.  If `if` blocks are nested, each new level should be indented 4 spaces more."
   ]
  },
  {
   "cell_type": "code",
   "execution_count": null,
   "metadata": {},
   "outputs": [],
   "source": [
    "# Simple conditional\n",
    "if is_tuesday == True:\n",
    "    print(\"It's Taco Tuesday!\")"
   ]
  },
  {
   "cell_type": "code",
   "execution_count": null,
   "metadata": {},
   "outputs": [],
   "source": [
    "# If/Else conditional\n",
    "if num_wishes > 0:\n",
    "    print(\"You have wishes remaining!\")\n",
    "else:\n",
    "    print(\"You are out of wishes.\")\n",
    "    "
   ]
  },
  {
   "cell_type": "code",
   "execution_count": null,
   "metadata": {},
   "outputs": [],
   "source": [
    "# If/Elif/Else\n",
    "if num_wishes == 3:\n",
    "    print(\"You must decide on your first wish!\")\n",
    "elif num_wishes == 2:\n",
    "    print(\"You still have 2 wishes remaining!\")\n",
    "elif num_wishes == 1:\n",
    "    print(\"You have but one wish.  Use it wisely!\")\n",
    "else:\n",
    "    print(\"You have used all of your wishes.\")"
   ]
  },
  {
   "cell_type": "markdown",
   "metadata": {},
   "source": [
    "## Looping Statements\n",
    "\n",
    "Python has two looping types, _for_ loops and _while_ loops, which can run the code inside repeatedly.\n",
    "\n",
    "A `for` loop takes the following form:\n",
    "\n",
    "    for <variable> in <iterable>:\n",
    "        <any valid Python code>\n",
    "        \n",
    "where _\\<variable\\>_ is any variable name, which the loop will set to each item in the sequence, and _\\<iterable\\>_ is any expression that results in an object that can be iterated, such as a string, list, or other container.\n",
    "\n",
    "A `while` loop takes the following form:\n",
    "\n",
    "    while <expression>:\n",
    "        <any valid Python code>\n",
    "        \n",
    "where _\\<expression\\>_ is any Python expression, which will be evaluated as True or False, according to Python's [Truth Value testing](https://docs.python.org/3/library/stdtypes.html#truth-value-testing) rules."
   ]
  },
  {
   "cell_type": "code",
   "execution_count": null,
   "metadata": {},
   "outputs": [],
   "source": [
    "# For loop over a range object created by the range function\n",
    "for number in range(20):\n",
    "    print(\"Counting\", number + 1)\n",
    "print(\"Ready or not, here I come!\")"
   ]
  },
  {
   "cell_type": "code",
   "execution_count": null,
   "metadata": {},
   "outputs": [],
   "source": [
    "# For loop over a string, character by character\n",
    "for letter in \"Python\":\n",
    "    print(\"Give me a\", letter)\n",
    "print(\"What's that spell?\")"
   ]
  },
  {
   "cell_type": "code",
   "execution_count": null,
   "metadata": {},
   "outputs": [],
   "source": [
    "# While loop to process a list of items\n",
    "\n",
    "records = [\"Employee 123\", \"Employee 456\", \"Employee 777\"]\n",
    "while len(records) > 0:\n",
    "    record = records.pop(0)\n",
    "    print(\"Emailing\", record)\n",
    "print(\"Complete.\")"
   ]
  },
  {
   "cell_type": "code",
   "execution_count": null,
   "metadata": {},
   "outputs": [],
   "source": [
    "# While loop to ask the user for input until they enter a blank\n",
    "responses = []\n",
    "while True:\n",
    "    response = input(\"Please enter a fruit you enjoy (leave empty to stop):\")\n",
    "    if not response:\n",
    "        break\n",
    "    responses.append(response)\n",
    "print(\"You entered: \", ', '.join(responses))"
   ]
  },
  {
   "cell_type": "markdown",
   "metadata": {},
   "source": [
    "### Looping Syntax extras\n",
    "\n",
    "* **break** - Immediately stops a loop and goes to the next line after\n",
    "* **continue** - Immediately jumps back to the top of the loop for the next iteration\n",
    "* **else** - Executes if the loop exits WITHOUT hitting a break"
   ]
  },
  {
   "cell_type": "markdown",
   "metadata": {},
   "source": [
    "## Exception Handling (try/except)\n",
    "\n",
    "The `try` and `except` keywords are used to run code when specific error conditions occur.\n",
    "\n",
    "Exception handling takes the following form:\n",
    "\n",
    "    try:\n",
    "        <any valid Python code>\n",
    "    except <exception type>:\n",
    "        <any valid Python code>\n",
    "        \n",
    "The `try` block indicates \"risky\" code that may throw exceptions, and the except block can \"catch\" those exceptions and run code used to handle the error, which may include logging, retrying, or repairing the problem."
   ]
  },
  {
   "cell_type": "code",
   "execution_count": 128,
   "metadata": {},
   "outputs": [
    {
     "name": "stdout",
     "output_type": "stream",
     "text": [
      "Got some sort of exception!\n"
     ]
    }
   ],
   "source": [
    "# Catch any exception thrown at all\n",
    "try:\n",
    "    int(\"Not an integer\")\n",
    "except:\n",
    "    print(\"Got some sort of exception!\")"
   ]
  },
  {
   "cell_type": "code",
   "execution_count": 129,
   "metadata": {},
   "outputs": [
    {
     "name": "stdout",
     "output_type": "stream",
     "text": [
      "Got a ValueError exception, specifically.\n"
     ]
    }
   ],
   "source": [
    "# Specify a type of exception to catch\n",
    "try:\n",
    "    int(\"Not an integer\")\n",
    "except ValueError:\n",
    "    print(\"Got a ValueError exception, specifically.\")"
   ]
  },
  {
   "cell_type": "code",
   "execution_count": 133,
   "metadata": {},
   "outputs": [
    {
     "name": "stdout",
     "output_type": "stream",
     "text": [
      "Please enter a number:123\n",
      "The result is 10.869918699186991\n"
     ]
    }
   ],
   "source": [
    "# Handle different types of exceptions differently\n",
    "try:\n",
    "    divisor = int(input(\"Please enter a number:\"))\n",
    "    result = 1337 / divisor\n",
    "    print(\"The result is\", result)\n",
    "except ValueError:\n",
    "    print(\"Oops, that wasn't an integer value.\")\n",
    "except ZeroDivisionError:\n",
    "    print(\"Sorry, you cannot divide by zero.\")\n",
    "except:\n",
    "    print(\"I'm not sure what you did, but it didn't work.\")"
   ]
  },
  {
   "cell_type": "markdown",
   "metadata": {},
   "source": [
    "## Special Operators\n",
    "\n",
    "Some operators do not take the form of _operand_ _\\<operator\\>_ _operand_ like the +, -, *, and / operators.  \n",
    "These operators usually have a special meaning."
   ]
  },
  {
   "cell_type": "markdown",
   "metadata": {},
   "source": [
    "### Indexing operator [ _index_or_key_ ]\n",
    "\n",
    "The indexing operator is used to access a particular element of a list, string, or other sequence type.  \n",
    "Numeric indexes begin at 0.\n",
    "\n",
    "Indexing uses the following forms:\n",
    "    \n",
    "    object[index]\n",
    "    object[key]  (for dicts)"
   ]
  },
  {
   "cell_type": "code",
   "execution_count": null,
   "metadata": {},
   "outputs": [],
   "source": [
    "# Indexing a string to get a character\n",
    "greeting = \"Good morning!\"\n",
    "greeting[3]"
   ]
  },
  {
   "cell_type": "code",
   "execution_count": null,
   "metadata": {},
   "outputs": [],
   "source": [
    "# Indexing a list\n",
    "my_list = [\"apple\", \"banana\", \"mango\", \"persimmon\"]\n",
    "my_list[1]"
   ]
  },
  {
   "cell_type": "code",
   "execution_count": null,
   "metadata": {},
   "outputs": [],
   "source": [
    "# Negative indexes start from the back of the sequence\n",
    "greeting = \"How's the weather?\"\n",
    "greeting[-1]"
   ]
  },
  {
   "cell_type": "code",
   "execution_count": null,
   "metadata": {},
   "outputs": [],
   "source": [
    "# Indexing a dict (by key)\n",
    "menu = {\"burger\": 5.99, \"fries\": 0.99, \"soda\": 1.99}\n",
    "menu[\"fries\"]"
   ]
  },
  {
   "cell_type": "markdown",
   "metadata": {},
   "source": [
    "### Slicing [ _start_ : _end_ : _step_ ]\n",
    "\n",
    "Slicing extracts a portion of a sequence (string, list, etc) without affecting the original.  \n",
    "Slicing always gives us a new sequence, regardless of the indexes specified, though it may be an empty sequence.  \n",
    "Slicing uses the form:\n",
    "    \n",
    "    object[start:end:step]\n",
    "\n",
    "All three arguments for slicing are optional, but at least one colon is still required."
   ]
  },
  {
   "cell_type": "code",
   "execution_count": null,
   "metadata": {},
   "outputs": [],
   "source": [
    "# Slicing a string\n",
    "greeting = \"Good morning!\"\n",
    "greeting[0:4]"
   ]
  },
  {
   "cell_type": "code",
   "execution_count": null,
   "metadata": {},
   "outputs": [],
   "source": [
    "# Optional start position (defaults to sequence beginning)\n",
    "greeting = \"Good morning!\"\n",
    "greeting[:4]"
   ]
  },
  {
   "cell_type": "code",
   "execution_count": null,
   "metadata": {},
   "outputs": [],
   "source": [
    "# Optional end position\n",
    "greeting = \"Good morning!\"\n",
    "greeting[5:]"
   ]
  },
  {
   "cell_type": "code",
   "execution_count": null,
   "metadata": {},
   "outputs": [],
   "source": [
    "# Slicing a list, using the step argument\n",
    "list_to_20 = list(range(20))\n",
    "\n",
    "only_evens = list_to_20[0::2]\n",
    "only_evens"
   ]
  },
  {
   "cell_type": "code",
   "execution_count": null,
   "metadata": {},
   "outputs": [],
   "source": [
    "# Reversing a string (slice from end to beginning, stepping backward)\n",
    "palindrome = \"racecar\"\n",
    "palindrome[::-1]"
   ]
  },
  {
   "cell_type": "markdown",
   "metadata": {},
   "source": [
    "### Attribute / Method access\n",
    "\n",
    "If an object has methods that can be called, you must use the following form:\n",
    "\n",
    "    object.method()\n",
    "    \n",
    "If there is an attribute (variable) you wish to access, the same form applies:\n",
    "\n",
    "    object.attribute"
   ]
  },
  {
   "cell_type": "code",
   "execution_count": null,
   "metadata": {},
   "outputs": [],
   "source": [
    "# Calling a method of string objects\n",
    "text = \"the phantom of the opera\"\n",
    "\n",
    "text.title()"
   ]
  },
  {
   "cell_type": "code",
   "execution_count": null,
   "metadata": {},
   "outputs": [],
   "source": [
    "# Calling a method of an int object\n",
    "one_byte = 255\n",
    "\n",
    "one_byte.bit_length()"
   ]
  },
  {
   "cell_type": "code",
   "execution_count": null,
   "metadata": {},
   "outputs": [],
   "source": [
    "# Dictionary attribute access to get the class type\n",
    "my_dict = {\"one\": 1, \"two\": 2, \"three\": 3}\n",
    "my_dict.__class__"
   ]
  },
  {
   "cell_type": "markdown",
   "metadata": {},
   "source": [
    "## Special Expressions\n",
    "\n",
    "Python syntax allows for some special cases of expressions to serve specific purposes."
   ]
  },
  {
   "cell_type": "markdown",
   "metadata": {},
   "source": [
    "### List Comprehension\n",
    "\n",
    "List Comprehensions are expressions used to create a new list from an existing iterable.  \n",
    "They use the following form:\n",
    "\n",
    "    [<element expression> for <variable> in <iterable>]\n",
    "    \n",
    "Where _element expression_ is any valid Python expression that will become the new list's elements.  \n",
    "The remainder of the list comprehension using _variable_ and _iterable_ works exactly like a standard for loop.\n",
    "\n",
    "In addition, list comprehensions can have an optional filtering clause, in this form:\n",
    "\n",
    "    [<element expression> for <variable> in <iterable> if <condition>]\n",
    "    \n",
    "Where _condition_ is any valid Python expression that will be evaluated as True or False.  When the condition is evaluated as True, the element will be included in the resulting list, but if it is false it will be excluded."
   ]
  },
  {
   "cell_type": "code",
   "execution_count": null,
   "metadata": {},
   "outputs": [],
   "source": [
    "# List comprehension to square every multiple of three\n",
    "squared = [num ** 2 for num in range(0, 100, 3)]\n",
    "\n",
    "squared"
   ]
  },
  {
   "cell_type": "code",
   "execution_count": null,
   "metadata": {},
   "outputs": [],
   "source": [
    "# List comprehension to filter out blank strings from a list of words\n",
    "words = [\"apple\", \"banana\", \"\", \"cherry\", \"\", \"\", \"grape\"]\n",
    "\n",
    "not_blank = [word for word in words if word != \"\"]\n",
    "not_blank"
   ]
  },
  {
   "cell_type": "markdown",
   "metadata": {},
   "source": [
    "### Dictionary Comprehension\n",
    "\n",
    "Dictionary comprehensions create dictionaries in the same way list comprehensions create lists.  Dictionary comprehensions require both a key and value for each item added to the dictionary.  \n",
    "Dictionary comprehensions take the form:\n",
    "\n",
    "    {<key expression>: <value expression> for <variable> in <iterable>}\n",
    "\n",
    "Where _key_expression_ is any expression that evalutes to a valid dictionary key, and _value_expression_ is any valid Python expression, which will become the value associated with the key.\n",
    "\n",
    "Dictionary comprehensions also support filtering:\n",
    "\n",
    "    {<key expression>: <value expression> for <variable> in <iterable> if <condition>}\n",
    "    \n",
    "Where condition is any Python expression, which if evaluated as True will include the key and value expressions in the new dictionary, or exclude them otherwise.\n"
   ]
  },
  {
   "cell_type": "code",
   "execution_count": null,
   "metadata": {},
   "outputs": [],
   "source": [
    "# Dictionary comprehension to create a dictionary pairing integers and their squares\n",
    "\n",
    "{num: num**2 for num in range(100)}"
   ]
  },
  {
   "cell_type": "code",
   "execution_count": null,
   "metadata": {},
   "outputs": [],
   "source": [
    "# Dictionary comprehension to show the ASCII codes for a string of characters\n",
    "# Note that duplicates are excluded as dicts cannot have duplicate keys\n",
    "greeting = \"Hello World!\"\n",
    "\n",
    "{char: ord(char) for char in greeting}"
   ]
  },
  {
   "cell_type": "code",
   "execution_count": null,
   "metadata": {},
   "outputs": [],
   "source": [
    "# Dictionary comprehension to show ASCII codes of only uppercase letters\n",
    "uppercase = \"ABCDEFGHIJKLMNOPQRSTUVWXYZ\"\n",
    "sentence = \"Python is AWESOME\"\n",
    "\n",
    "{char: ord(char) for char in sentence if char in uppercase}"
   ]
  },
  {
   "cell_type": "markdown",
   "metadata": {},
   "source": [
    "## Function Definitions\n",
    "\n",
    "Custom functions can be defined in your code in addition to using built-in function.  \n",
    "Functions must be _defined_ before they can be _called_.\n",
    "\n",
    "Function definitions use the form:\n",
    "\n",
    "    def function_name(argument1, argument2, argument3):\n",
    "        <any valid Python code>\n",
    "        \n",
    "Functions may be defined to take any number of arguments, or none at all.  Parentheses are always required."
   ]
  },
  {
   "cell_type": "code",
   "execution_count": null,
   "metadata": {},
   "outputs": [],
   "source": [
    "# Function with no arguments\n",
    "def say_hello():\n",
    "    print(\"Hello everyone!\")\n",
    "    \n",
    "# Call the function we just defined\n",
    "say_hello()"
   ]
  },
  {
   "cell_type": "code",
   "execution_count": null,
   "metadata": {},
   "outputs": [],
   "source": [
    "# Function with a single argument\n",
    "def greet_person(name):\n",
    "    print(\"Hello\", name, \"it's nice to meet you!\")\n",
    "    \n",
    "greet_person(\"Guido\")"
   ]
  },
  {
   "cell_type": "code",
   "execution_count": null,
   "metadata": {},
   "outputs": [],
   "source": [
    "# Function with multiple arguments\n",
    "# the arguments from the function call are matched up in order specified.\n",
    "def greet_person(greeting, name, punctuation):\n",
    "    print(greeting, name, \"it's nice to meet you\" + punctuation)\n",
    "\n",
    "# Calls with different arguments specified\n",
    "greet_person(\"Yo\", \"Buddy\", \".\")\n",
    "greet_person(\"Good evening\", \"Sir\", \"...\")\n",
    "greet_person(\"Wassup\", \"dude\", \"!!!!\")"
   ]
  },
  {
   "cell_type": "markdown",
   "metadata": {},
   "source": [
    "### Keyword arguments\n",
    "\n",
    "To avoid confusion or incorrect function calls when several arguments are specified, you may specify the argument name when you call the function, using the following form:\n",
    "\n",
    "    function_name(argument_name=value, argument_name=value, ...)"
   ]
  },
  {
   "cell_type": "code",
   "execution_count": null,
   "metadata": {},
   "outputs": [],
   "source": [
    "# No change to the function definition\n",
    "def greet_person(greeting, name, punctuation):\n",
    "    print(greeting, name, \"it's nice to meet you\" + punctuation)\n",
    "    \n",
    "# The call can specify the argument names\n",
    "greet_person(greeting=\"Hello\", name=\"JR\", punctuation=\".\")\n",
    "# Keyword arguments can be specified in any order\n",
    "greet_person(punctuation=\"?\", greeting=\"Umm...\", name=\"hey you\")"
   ]
  },
  {
   "cell_type": "markdown",
   "metadata": {},
   "source": [
    "### Default / Optional arguments\n",
    "\n",
    "If a value is supplied for an argument in the function defintion, it may be omitted when the function is called:\n",
    "\n",
    "    def function_name(argument1, argument2=<default value>):\n",
    "        <any valid Python code>"
   ]
  },
  {
   "cell_type": "code",
   "execution_count": null,
   "metadata": {},
   "outputs": [],
   "source": [
    "# Function definition with default value for punctuation\n",
    "def greet_person(greeting, name, punctuation=\".\"):\n",
    "    print(greeting, name, \"it's nice to meet you\" + punctuation)\n",
    "    \n",
    "# No punctuation argument is supplied, so the default is used.\n",
    "greet_person(\"Hello\", \"JR\")"
   ]
  },
  {
   "cell_type": "code",
   "execution_count": null,
   "metadata": {},
   "outputs": [],
   "source": [
    "def greet_person(greeting, name, punctuation=\".\"):\n",
    "    print(greeting, name, \"it's nice to meet you\" + punctuation)\n",
    "    \n",
    "# Default argument values can still be overridden if supplied.\n",
    "greet_person(\"Hello\", \"JR\", \"!!\")"
   ]
  },
  {
   "cell_type": "markdown",
   "metadata": {},
   "source": [
    "## Module Imports\n",
    "\n",
    "Importing a module allows your code to access functions or variables defined in that module.  The module must exist in one of the directories specified in `sys.path`\n",
    "\n",
    "Imports can take this form:\n",
    "\n",
    "    import module_name\n",
    "This form imports the entire module as an object and allows access to functions in the form `module_name.function_name()`\n",
    "\n",
    "Imports can also take this form:\n",
    "\n",
    "    from module_name import function_name\n",
    "    \n",
    "This form imports only the specified `function_name` as if it were defined in your own code."
   ]
  },
  {
   "cell_type": "code",
   "execution_count": null,
   "metadata": {},
   "outputs": [],
   "source": [
    "# Import an entire module and gain access to its functions or attributes\n",
    "import random\n",
    "import string\n",
    "\n",
    "random.choice(string.ascii_uppercase)"
   ]
  },
  {
   "cell_type": "code",
   "execution_count": 123,
   "metadata": {},
   "outputs": [
    {
     "data": {
      "text/plain": [
       "'0123456789'"
      ]
     },
     "execution_count": 123,
     "metadata": {},
     "output_type": "execute_result"
    }
   ],
   "source": [
    "# Import only a specific function or variable from a module and then use it directly\n",
    "from string import digits\n",
    "\n",
    "digits"
   ]
  },
  {
   "cell_type": "code",
   "execution_count": 127,
   "metadata": {},
   "outputs": [
    {
     "data": {
      "text/plain": [
       "['s', 'm', 'c', 'l', 'n']"
      ]
     },
     "execution_count": 127,
     "metadata": {},
     "output_type": "execute_result"
    }
   ],
   "source": [
    "# Import multiple specific variables or functions\n",
    "from string import ascii_lowercase\n",
    "from random import shuffle, sample\n",
    "\n",
    "letters = list(ascii_lowercase)\n",
    "shuffle(letters)\n",
    "sample(letters, 5)"
   ]
  },
  {
   "cell_type": "markdown",
   "metadata": {},
   "source": [
    "## Python Cheatsheet\n",
    "\n",
    "https://www.pythoncheatsheet.org/cheatsheet/basics"
   ]
  }
 ],
 "metadata": {
  "celltoolbar": "Slideshow",
  "kernelspec": {
   "display_name": "Python 3",
   "language": "python",
   "name": "python3"
  },
  "language_info": {
   "codemirror_mode": {
    "name": "ipython",
    "version": 3
   },
   "file_extension": ".py",
   "mimetype": "text/x-python",
   "name": "python",
   "nbconvert_exporter": "python",
   "pygments_lexer": "ipython3",
   "version": "3.7.10"
  }
 },
 "nbformat": 4,
 "nbformat_minor": 5
}
